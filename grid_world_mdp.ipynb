{
 "cells": [
  {
   "cell_type": "code",
   "execution_count": 1,
   "id": "76435571",
   "metadata": {},
   "outputs": [],
   "source": [
    "import numpy as np"
   ]
  },
  {
   "cell_type": "code",
   "execution_count": 2,
   "id": "5dc185a0",
   "metadata": {},
   "outputs": [],
   "source": [
    "class GridWorld:\n",
    "    \"\"\"\n",
    "    A class to represent the Grid World environment for a Markov Decision Process.\n",
    "    \"\"\"\n",
    "\n",
    "    def __init__(self, width, height, start, goal, obstacles, slip_prob=0.2):\n",
    "        \"\"\"\n",
    "        Initializes the Grid World environment.\n",
    "\n",
    "        Args:\n",
    "            width (int): The width of the grid.\n",
    "            height (int): The height of the grid.\n",
    "            start (tuple): The starting position of the agent (row, col).\n",
    "            goal (tuple): The goal position (row, col).\n",
    "            obstacles (list of tuples): A list of obstacle positions.\n",
    "            slip_prob (float): The probability of the agent slipping and moving in an unintended direction.\n",
    "        \"\"\"\n",
    "        self.width = width\n",
    "        self.height = height\n",
    "        self.start = start\n",
    "        self.goal = goal\n",
    "        self.obstacles = obstacles\n",
    "        self.slip_prob = slip_prob\n",
    "\n",
    "        # States (S)\n",
    "        self.states = [(r, c) for r in range(height) for c in range(width)]\n",
    "\n",
    "        # Actions (A)\n",
    "        self.actions = ['up', 'down', 'left', 'right']\n",
    "\n",
    "        # Transition Probabilities (P) and Reward Function (R)\n",
    "        self.P = self._create_transition_probabilities()\n",
    "        self.R = self._create_reward_function()\n",
    "\n",
    "    def _create_transition_probabilities(self):\n",
    "        \"\"\"\n",
    "        Creates the transition probability dictionary P(s, a, s').\n",
    "        \"\"\"\n",
    "        P = {}\n",
    "        for s in self.states:\n",
    "            if s in self.obstacles or s == self.goal:\n",
    "                continue\n",
    "            P[s] = {}\n",
    "            for a in self.actions:\n",
    "                P[s][a] = []\n",
    "                # Intended move\n",
    "                next_s_intended = self._get_next_state(s, a)\n",
    "                P[s][a].append((1 - self.slip_prob, next_s_intended))\n",
    "\n",
    "                # Slips\n",
    "                slip_actions = [act for act in self.actions if act != a]\n",
    "                for slip_a in slip_actions:\n",
    "                    next_s_slip = self._get_next_state(s, slip_a)\n",
    "                    P[s][a].append((self.slip_prob / len(slip_actions), next_s_slip))\n",
    "        return P\n",
    "\n",
    "    def _get_next_state(self, s, a):\n",
    "        \"\"\"\n",
    "        Calculates the next state given a current state and action.\n",
    "        \"\"\"\n",
    "        r, c = s\n",
    "        if a == 'up':\n",
    "            r = max(0, r - 1)\n",
    "        elif a == 'down':\n",
    "            r = min(self.height - 1, r + 1)\n",
    "        elif a == 'left':\n",
    "            c = max(0, c - 1)\n",
    "        elif a == 'right':\n",
    "            c = min(self.width - 1, c + 1)\n",
    "        \n",
    "        # Check for obstacles\n",
    "        if (r, c) in self.obstacles:\n",
    "            return s # Stay in the same state if moving into an obstacle\n",
    "\n",
    "        return (r, c)\n",
    "\n",
    "    def _create_reward_function(self):\n",
    "        \"\"\"\n",
    "        Creates the reward dictionary R(s, a, s').\n",
    "        \"\"\"\n",
    "        R = {}\n",
    "        for s in self.states:\n",
    "            R[s] = {}\n",
    "            for a in self.actions:\n",
    "                R[s][a] = {}\n",
    "                # Check all possible next states from the transition probabilities\n",
    "                if s in self.P:\n",
    "                    for prob, next_s in self.P[s][a]:\n",
    "                        if next_s == self.goal:\n",
    "                            R[s][a][next_s] = 10\n",
    "                        elif next_s in self.obstacles:\n",
    "                            R[s][a][next_s] = -10\n",
    "                        else:\n",
    "                            R[s][a][next_s] = -1 # Reward for each step\n",
    "        return R\n",
    "\n",
    "    def print_grid(self, agent_pos=None):\n",
    "        \"\"\"\n",
    "        Prints a simple visualization of the grid.\n",
    "        \"\"\"\n",
    "        for r in range(self.height):\n",
    "            row_str = \"\"\n",
    "            for c in range(self.width):\n",
    "                if agent_pos and (r, c) == agent_pos:\n",
    "                    row_str += \" A \"\n",
    "                elif (r, c) == self.goal:\n",
    "                    row_str += \" G \"\n",
    "                elif (r, c) in self.obstacles:\n",
    "                    row_str += \" X \"\n",
    "                else:\n",
    "                    row_str += \" . \"\n",
    "            print(row_str)"
   ]
  },
  {
   "cell_type": "code",
   "execution_count": 3,
   "id": "0e3d415f",
   "metadata": {},
   "outputs": [
    {
     "name": "stdout",
     "output_type": "stream",
     "text": [
      "--- Markov Decision Process Components ---\n",
      "\n",
      "Number of States: 25\n",
      "Sample States: [(0, 0), (0, 1), (0, 2), (0, 3), (0, 4)]\n",
      "\n",
      "Actions: ['up', 'down', 'left', 'right']\n",
      "\n",
      "Reward function for state (0, 0) and action 'right':\n",
      "  - Transition to (0, 1) has a reward of -1\n",
      "  - Transition to (0, 0) has a reward of -1\n",
      "  - Transition to (1, 0) has a reward of -1\n",
      "\n",
      "Transition probabilities for state (0, 0) and action 'right':\n",
      "  - Probability of moving to (0, 1): 0.80\n",
      "  - Probability of moving to (0, 0): 0.07\n",
      "  - Probability of moving to (1, 0): 0.07\n",
      "  - Probability of moving to (0, 0): 0.07\n",
      "\n",
      "--- Grid World Visualization ---\n",
      " A  .  .  .  . \n",
      " .  X  .  .  . \n",
      " .  .  .  X  . \n",
      " .  X  .  .  . \n",
      " .  .  .  .  G \n"
     ]
    }
   ],
   "source": [
    "if __name__ == '__main__':\n",
    "    # Define the grid world parameters\n",
    "    grid_width = 5\n",
    "    grid_height = 5\n",
    "    start_state = (0, 0)\n",
    "    goal_state = (4, 4)\n",
    "    obstacle_states = [(1, 1), (2, 3), (3, 1)]\n",
    "\n",
    "    # Create the GridWorld environment\n",
    "    grid_world = GridWorld(\n",
    "        width=grid_width,\n",
    "        height=grid_height,\n",
    "        start=start_state,\n",
    "        goal=goal_state,\n",
    "        obstacles=obstacle_states\n",
    "    )\n",
    "\n",
    "    # --- Demonstrating the MDP Components ---\n",
    "    print(\"--- Markov Decision Process Components ---\")\n",
    "\n",
    "    # States (S)\n",
    "    print(\"\\nNumber of States:\", len(grid_world.states))\n",
    "    print(\"Sample States:\", grid_world.states[:5])\n",
    "\n",
    "    # Actions (A)\n",
    "    print(\"\\nActions:\", grid_world.actions)\n",
    "\n",
    "    # Reward Function (R) - Example for start state and 'right' action\n",
    "    sample_state = start_state\n",
    "    sample_action = 'right'\n",
    "    print(f\"\\nReward function for state {sample_state} and action '{sample_action}':\")\n",
    "    if sample_state in grid_world.R and sample_action in grid_world.R[sample_state]:\n",
    "        for next_s, reward in grid_world.R[sample_state][sample_action].items():\n",
    "            print(f\"  - Transition to {next_s} has a reward of {reward}\")\n",
    "\n",
    "    # Transition Probabilities (P) - Example for start state and 'right' action\n",
    "    print(f\"\\nTransition probabilities for state {sample_state} and action '{sample_action}':\")\n",
    "    if sample_state in grid_world.P and sample_action in grid_world.P[sample_state]:\n",
    "        for prob, next_s in grid_world.P[sample_state][sample_action]:\n",
    "            print(f\"  - Probability of moving to {next_s}: {prob:.2f}\")\n",
    "\n",
    "    # --- Grid Visualization ---\n",
    "    print(\"\\n--- Grid World Visualization ---\")\n",
    "    grid_world.print_grid(agent_pos=start_state)"
   ]
  },
  {
   "cell_type": "code",
   "execution_count": 4,
   "id": "aa76ddff",
   "metadata": {},
   "outputs": [],
   "source": [
    "import random\n",
    "import networkx as nx\n",
    "import matplotlib.pyplot as plt\n",
    "\n",
    "# Simple Markov Chain Example\n",
    "states = [\"Sunny\", \"Cloudy\", \"Rainy\"] # States of the weather\n",
    "\n",
    "transition_matrix = [\n",
    "    [0.7, 0.2, 0.1], # Sunny -> Sunny, Cloudy, Rainy\n",
    "    [0.3, 0.4, 0.3], # Cloudy -> Sunny, Cloudy, Rainy\n",
    "    [0.2, 0.5, 0.3]  # Rainy -> Sunny, Cloudy, Rainy\n",
    "]"
   ]
  },
  {
   "cell_type": "code",
   "execution_count": 5,
   "id": "9a09fc18",
   "metadata": {},
   "outputs": [],
   "source": [
    "def markov_chain(start_state, days):\n",
    "    \"\"\"This function simulates a Markov chain for weather states over a number of days.\"\"\"\n",
    "    current_state = start_state\n",
    "    weather_sequence = [current_state]\n",
    "    \n",
    "    for _ in range(days):\n",
    "        next_state_probs = transition_matrix[states.index(current_state)]\n",
    "        current_state = random.choices(states, weights=next_state_probs)[0]\n",
    "        weather_sequence.append(current_state)\n",
    "    \n",
    "    return weather_sequence\n",
    "    "
   ]
  },
  {
   "cell_type": "code",
   "execution_count": 9,
   "id": "73af82c3",
   "metadata": {},
   "outputs": [],
   "source": [
    "def plot_markov_chain(states, transition_matrix):\n",
    "    G = nx.DiGraph()\n",
    "\n",
    "    # Add nodes\n",
    "    for state in states:\n",
    "        G.add_node(state)\n",
    "\n",
    "    # Add edges with weights\n",
    "    for i, from_state in enumerate(states):\n",
    "        for j, to_state in enumerate(states):\n",
    "            prob = transition_matrix[i][j]\n",
    "            if prob > 0:\n",
    "                G.add_edge(from_state, to_state, weight=prob, label=f\"{prob:.2f}\")\n",
    "\n",
    "    pos = nx.spring_layout(G, seed=42)  # Layout for consistent positions\n",
    "    nx.draw(G, pos, with_labels=True, node_size=1000, node_color='lightblue', font_size=12, arrowsize=20)\n",
    "\n",
    "    # Draw edge labels\n",
    "    edge_labels = nx.get_edge_attributes(G, 'label')\n",
    "    nx.draw_networkx_edge_labels(G, pos, edge_labels=edge_labels, font_size=10)\n",
    "\n",
    "    plt.title(\"Markov Chain State Diagram\")\n",
    "    plt.show()"
   ]
  },
  {
   "cell_type": "code",
   "execution_count": 7,
   "id": "a628eb05",
   "metadata": {},
   "outputs": [
    {
     "name": "stdout",
     "output_type": "stream",
     "text": [
      "['Cloudy', 'Rainy', 'Cloudy', 'Rainy', 'Cloudy', 'Cloudy', 'Sunny', 'Sunny', 'Cloudy', 'Cloudy', 'Cloudy']\n"
     ]
    }
   ],
   "source": [
    "sequence = markov_chain(\"Cloudy\", 10)\n",
    "print(sequence)"
   ]
  },
  {
   "cell_type": "code",
   "execution_count": null,
   "id": "c69d2175",
   "metadata": {},
   "outputs": [
    {
     "data": {
      "image/png": "[encoded data removed]",
      "text/plain": [
       "<Figure size 640x480 with 1 Axes>"
      ]
     },
     "metadata": {},
     "output_type": "display_data"
    }
   ],
   "source": [
    "# Visualize the markov chain\n",
    "plot_markov_chain(states, transition_matrix)"
   ]
  },
  {
   "cell_type": "code",
   "execution_count": 1,
   "id": "6f42e223",
   "metadata": {},
   "outputs": [],
   "source": [
    "# An instance of a Markov Reward Process (MRP)\n",
    "import numpy as np\n",
    "\n",
    "states = {0: \"Facebook\", 1: \"Class\", 2: \"Sleep\"} # States -> Browsing Facebook, Attending a class, Sleeping\n",
    "\n",
    "# Transition probability matrix\n",
    "P = np.array([\n",
    "    [0.9, 0.1, 0.0],  # Facebook -> Facebook, Class, Sleep.\n",
    "    [0.5, 0.0, 0.5],  # Class -> Facebook, Class, Sleep.\n",
    "    [0.0, 0.0, 1.0]   # Sleep -> Facebook, Class, Sleep. Sleep is a terminal state.\n",
    "    ])\n",
    "\n",
    "# Reward Function\n",
    "R = np.array([-1, -2, 0])  # Rewards for being in each state: Facebook (-1), Class (-2), Sleep (0)\n",
    "\n",
    "# Discount Factor\n",
    "gamma = 0.9"
   ]
  },
  {
   "cell_type": "code",
   "execution_count": 17,
   "id": "42ca37b8",
   "metadata": {},
   "outputs": [
    {
     "name": "stdout",
     "output_type": "stream",
     "text": [
      "Simulated Episode(by state index): [1, 0, 0, 0, 1, 2]\n",
      "Simulated Episode(by state name): ['Class', 'Facebook', 'Facebook', 'Facebook', 'Class', 'Sleep']\n"
     ]
    }
   ],
   "source": [
    "def simulate_episode(start_state, max_steps=10):\n",
    "    \"\"\"Simulates an episode of the MRP starting from a given state.\"\"\"\n",
    "    episode = []\n",
    "    current_state = start_state\n",
    "    \n",
    "    for _ in range(max_steps):\n",
    "        episode.append(current_state)\n",
    "        if current_state == 2:  # If we reach the terminal state (Sleep)\n",
    "            break\n",
    "        next_state = np.random.choice(len(states), p=P[current_state])\n",
    "        current_state = next_state\n",
    "    return episode\n",
    "\n",
    "episode_simulation = simulate_episode(1)  # Start from Class\n",
    "print(f\"Simulated Episode(by state index): {episode_simulation}\")\n",
    "print(f\"Simulated Episode(by state name): {[states[s] for s in episode_simulation]}\")"
   ]
  },
  {
   "cell_type": "code",
   "execution_count": null,
   "id": "7683111b",
   "metadata": {},
   "outputs": [
    {
     "name": "stdout",
     "output_type": "stream",
     "text": [
      "\n",
      "Rewards for the episode: [np.int64(-2), np.int64(-1), np.int64(-1), np.int64(-1), np.int64(-2), np.int64(0)]\n",
      "Total Return for the episode: -5.7512\n"
     ]
    }
   ],
   "source": [
    "# Computing the returns for an episode\n",
    "def compute_return(episode, rewards, discount_factor):\n",
    "    \"\"\"Calculates the returns for a given episode.\"\"\"\n",
    "    G = 0\n",
    "    for i, state in enumerate(episode):\n",
    "        G += (discount_factor ** i) * rewards[state]\n",
    "    return G\n",
    "\n",
    "# Example usage of compute_returns\n",
    "episode_rewards = [R[s] for s in episode_simulation]\n",
    "total_return = compute_return(episode_simulation, R, gamma)\n",
    "print(f\"\\nRewards for the episode: {episode_rewards}\")\n",
    "print(f\"Total Return for the episode: {total_return}\")"
   ]
  }
 ],
 "metadata": {
  "kernelspec": {
   "display_name": ".venv",
   "language": "python",
   "name": "python3"
  },
  "language_info": {
   "codemirror_mode": {
    "name": "ipython",
    "version": 3
   },
   "file_extension": ".py",
   "mimetype": "text/x-python",
   "name": "python",
   "nbconvert_exporter": "python",
   "pygments_lexer": "ipython3",
   "version": "3.11.1"
  }
 },
 "nbformat": 4,
 "nbformat_minor": 5
}
