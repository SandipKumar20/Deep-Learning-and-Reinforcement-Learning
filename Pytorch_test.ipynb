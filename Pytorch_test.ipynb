{
 "cells": [
  {
   "cell_type": "code",
   "execution_count": null,
   "id": "64dc6af7",
   "metadata": {},
   "outputs": [],
   "source": [
    "import torch"
   ]
  },
  {
   "cell_type": "code",
   "execution_count": null,
   "id": "35e02173",
   "metadata": {},
   "outputs": [],
   "source": [
    "torch.cuda.is_available()  # Check if CUDA is available"
   ]
  },
  {
   "cell_type": "code",
   "execution_count": null,
   "id": "e98b4f99",
   "metadata": {},
   "outputs": [],
   "source": [
    "torch.cuda.device_count()  # Get the number of available CUDA devices"
   ]
  },
  {
   "cell_type": "code",
   "execution_count": null,
   "id": "1361eaf3",
   "metadata": {},
   "outputs": [],
   "source": [
    "import gymnasium as gym"
   ]
  },
  {
   "cell_type": "code",
   "execution_count": null,
   "id": "57c5781b",
   "metadata": {},
   "outputs": [],
   "source": [
    "import gymnasium as gym\n",
    "import ale_py\n",
    "\n",
    "gym.register_envs(ale_py)\n",
    "\n",
    "# Create the Breakout environment from the ALE (Arcade Learning Environment) namespace.\n",
    "# The 'render_mode=\"human\"' argument is what allows you to see the game window.\n",
    "env = gym.make(\"ALE/Breakout-v5\", render_mode=\"human\")\n",
    "\n",
    "# Reset the environment to get the initial observation.\n",
    "# The 'seed' can be set for reproducibility.\n",
    "observation, info = env.reset(seed=42)\n",
    "\n",
    "# Run the environment for a total of 5 episodes.\n",
    "for episode in range(5):\n",
    "    print(f\"--- Starting Episode: {episode + 1} ---\")\n",
    "    \n",
    "    # Run each episode for a maximum of 1000 steps.\n",
    "    for _ in range(1000):\n",
    "        # The agent takes a random action from the available action space.\n",
    "        action = env.action_space.sample()\n",
    "        \n",
    "        # The environment's step function returns new information after the action is taken.\n",
    "        observation, reward, terminated, truncated, info = env.step(action)\n",
    "        \n",
    "        # The 'terminated' flag is True if the agent fails or the game ends (e.g., loses all lives).\n",
    "        # The 'truncated' flag is True if the episode is cut short (e.g., a time limit is reached).\n",
    "        if terminated or truncated:\n",
    "            print(f\"Episode finished!\")\n",
    "            # Reset the environment to start a new episode.\n",
    "            observation, info = env.reset()\n",
    "            # Break the inner loop to start the next episode.\n",
    "            break\n",
    "\n",
    "# Close the environment and the rendering window.\n",
    "env.close()"
   ]
  },
  {
   "cell_type": "code",
   "execution_count": null,
   "id": "2a9b873a",
   "metadata": {},
   "outputs": [],
   "source": [
    "import gymnasium as gym\n",
    "import ale_py\n",
    "\n",
    "gym.register_envs(ale_py)\n",
    "\n",
    "env = gym.make('ALE/Breakout-v5')\n",
    "obs, info = env.reset()\n",
    "obs, reward, terminated, truncated, info = env.step(env.action_space.sample())\n",
    "env.close()"
   ]
  },
  {
   "cell_type": "code",
   "execution_count": 1,
   "id": "da725c48",
   "metadata": {},
   "outputs": [],
   "source": [
    "import torch\n",
    "from torch import nn\n",
    "from torch.utils.data import DataLoader\n",
    "from torchvision import datasets\n",
    "from torchvision.transforms import ToTensor\n",
    "import torch.nn.functional as F"
   ]
  },
  {
   "cell_type": "code",
   "execution_count": 2,
   "id": "7ef4ed17",
   "metadata": {},
   "outputs": [],
   "source": [
    "# Download training data from open datasets.\n",
    "training_data = datasets.FashionMNIST(\n",
    "    root=\"data\",\n",
    "    train=True,\n",
    "    download=True,\n",
    "    transform=ToTensor(),\n",
    ")\n",
    "\n",
    "# Download test data from open datasets.\n",
    "test_data = datasets.FashionMNIST(\n",
    "    root=\"data\",\n",
    "    train=False,\n",
    "    download=True,\n",
    "    transform=ToTensor(),\n",
    ")"
   ]
  },
  {
   "cell_type": "code",
   "execution_count": 3,
   "id": "0622f292",
   "metadata": {},
   "outputs": [
    {
     "name": "stdout",
     "output_type": "stream",
     "text": [
      "Shape of X [N, C, H, W]: torch.Size([64, 1, 28, 28])\n",
      "Shape of y: torch.Size([64]) torch.int64\n"
     ]
    }
   ],
   "source": [
    "batch_size = 64\n",
    "\n",
    "# Create data loaders.\n",
    "train_dataloader = DataLoader(training_data, batch_size=batch_size)\n",
    "test_dataloader = DataLoader(test_data, batch_size=batch_size)\n",
    "\n",
    "for X, y in test_dataloader:\n",
    "    print(f\"Shape of X [N, C, H, W]: {X.shape}\")\n",
    "    print(f\"Shape of y: {y.shape} {y.dtype}\")\n",
    "    break"
   ]
  },
  {
   "cell_type": "code",
   "execution_count": 4,
   "id": "3a81a46f",
   "metadata": {},
   "outputs": [
    {
     "name": "stdout",
     "output_type": "stream",
     "text": [
      "Using cuda device\n",
      "FMNist_CNN(\n",
      "  (layer1): Sequential(\n",
      "    (0): Conv2d(1, 32, kernel_size=(3, 3), stride=(1, 1), padding=(1, 1))\n",
      "    (1): BatchNorm2d(32, eps=1e-05, momentum=0.1, affine=True, track_running_stats=True)\n",
      "    (2): ReLU()\n",
      "    (3): MaxPool2d(kernel_size=2, stride=2, padding=0, dilation=1, ceil_mode=False)\n",
      "  )\n",
      "  (layer2): Sequential(\n",
      "    (0): Conv2d(32, 64, kernel_size=(3, 3), stride=(1, 1))\n",
      "    (1): BatchNorm2d(64, eps=1e-05, momentum=0.1, affine=True, track_running_stats=True)\n",
      "    (2): ReLU()\n",
      "    (3): MaxPool2d(kernel_size=2, stride=2, padding=0, dilation=1, ceil_mode=False)\n",
      "  )\n",
      "  (fc1): Linear(in_features=2304, out_features=600, bias=True)\n",
      "  (drop): Dropout2d(p=0.25, inplace=False)\n",
      "  (fc2): Linear(in_features=600, out_features=120, bias=True)\n",
      "  (fc3): Linear(in_features=120, out_features=10, bias=True)\n",
      ")\n"
     ]
    }
   ],
   "source": [
    "device = torch.accelerator.current_accelerator().type if torch.accelerator.is_available() else \"cpu\"\n",
    "print(f\"Using {device} device\")\n",
    "\n",
    "# Define model\n",
    "class FMNist_CNN(nn.Module):\n",
    "    \n",
    "    def __init__(self):\n",
    "        super(FMNist_CNN, self).__init__()\n",
    "        \n",
    "        self.layer1 = nn.Sequential(\n",
    "            nn.Conv2d(in_channels=1, out_channels=32, kernel_size=3, padding=1),\n",
    "            nn.BatchNorm2d(32),\n",
    "            nn.ReLU(),\n",
    "            nn.MaxPool2d(kernel_size=2, stride=2)\n",
    "        )\n",
    "        \n",
    "        self.layer2 = nn.Sequential(\n",
    "            nn.Conv2d(in_channels=32, out_channels=64, kernel_size=3),\n",
    "            nn.BatchNorm2d(64),\n",
    "            nn.ReLU(),\n",
    "            nn.MaxPool2d(2)\n",
    "        )\n",
    "        \n",
    "        self.fc1 = nn.Linear(in_features=64*6*6, out_features=600)\n",
    "        self.drop = nn.Dropout2d(0.25)\n",
    "        self.fc2 = nn.Linear(in_features=600, out_features=120)\n",
    "        self.fc3 = nn.Linear(in_features=120, out_features=10)\n",
    "        \n",
    "    def forward(self, x):\n",
    "        x = self.layer1(x)\n",
    "        x = self.layer2(x)\n",
    "        x = x.view(x.size(0), -1)\n",
    "        x = self.fc1(x)\n",
    "        x = self.drop(x)\n",
    "        x = self.fc2(x)\n",
    "        x = self.fc3(x)\n",
    "        \n",
    "        return x\n",
    "\n",
    "\n",
    "model = FMNist_CNN().to(device)\n",
    "print(model)"
   ]
  },
  {
   "cell_type": "code",
   "execution_count": 5,
   "id": "b8580426",
   "metadata": {},
   "outputs": [],
   "source": [
    "loss_fn = nn.CrossEntropyLoss()\n",
    "optimizer = torch.optim.SGD(model.parameters(), lr=1e-3)"
   ]
  },
  {
   "cell_type": "code",
   "execution_count": 6,
   "id": "0230dae3",
   "metadata": {},
   "outputs": [],
   "source": [
    "def train(dataloader, model, loss_fn, optimizer):\n",
    "    size = len(dataloader.dataset)\n",
    "    model.train()\n",
    "    for batch, (X, y) in enumerate(dataloader):\n",
    "        X, y = X.to(device), y.to(device)\n",
    "\n",
    "        # Compute prediction error\n",
    "        pred = model(X)\n",
    "        loss = loss_fn(pred, y)\n",
    "\n",
    "        # Backpropagation\n",
    "        loss.backward()\n",
    "        optimizer.step()\n",
    "        optimizer.zero_grad()\n",
    "\n",
    "        if batch % 100 == 0:\n",
    "            loss, current = loss.item(), (batch + 1) * len(X)\n",
    "            print(f\"loss: {loss:>7f}  [{current:>5d}/{size:>5d}]\")"
   ]
  },
  {
   "cell_type": "code",
   "execution_count": 7,
   "id": "e8f47d35",
   "metadata": {},
   "outputs": [],
   "source": [
    "def test(dataloader, model, loss_fn):\n",
    "    size = len(dataloader.dataset)\n",
    "    num_batches = len(dataloader)\n",
    "    model.eval()\n",
    "    test_loss, correct = 0, 0\n",
    "    with torch.no_grad():\n",
    "        for X, y in dataloader:\n",
    "            X, y = X.to(device), y.to(device)\n",
    "            pred = model(X)\n",
    "            test_loss += loss_fn(pred, y).item()\n",
    "            correct += (pred.argmax(1) == y).type(torch.float).sum().item()\n",
    "    test_loss /= num_batches\n",
    "    correct /= size\n",
    "    print(f\"Test Error: \\n Accuracy: {(100*correct):>0.1f}%, Avg loss: {test_loss:>8f} \\n\")"
   ]
  },
  {
   "cell_type": "code",
   "execution_count": 8,
   "id": "6a57dc65",
   "metadata": {},
   "outputs": [
    {
     "name": "stdout",
     "output_type": "stream",
     "text": [
      "Epoch 1\n",
      "-------------------------------\n"
     ]
    },
    {
     "name": "stderr",
     "output_type": "stream",
     "text": [
      "c:\\Users\\User\\Desktop\\VS_Code_Projects\\Reinforcement_learning\\.venv\\Lib\\site-packages\\torch\\nn\\functional.py:1535: UserWarning: dropout2d: Received a 2-D input to dropout2d, which is deprecated and will result in an error in a future release. To retain the behavior and silence this warning, please use dropout instead. Note that dropout2d exists to provide channel-wise dropout on inputs with 2 spatial dimensions, a channel dimension, and an optional batch dimension (i.e. 3D or 4D inputs).\n",
      "  warnings.warn(warn_msg)\n"
     ]
    },
    {
     "name": "stdout",
     "output_type": "stream",
     "text": [
      "loss: 2.451858  [   64/60000]\n",
      "loss: 1.986694  [ 6464/60000]\n",
      "loss: 1.500421  [12864/60000]\n",
      "loss: 1.327255  [19264/60000]\n",
      "loss: 1.060905  [25664/60000]\n",
      "loss: 1.024999  [32064/60000]\n",
      "loss: 0.918887  [38464/60000]\n",
      "loss: 0.802744  [44864/60000]\n",
      "loss: 0.823255  [51264/60000]\n",
      "loss: 0.716625  [57664/60000]\n",
      "Test Error: \n",
      " Accuracy: 76.0%, Avg loss: 0.737510 \n",
      "\n",
      "Epoch 2\n",
      "-------------------------------\n",
      "loss: 0.717893  [   64/60000]\n",
      "loss: 0.842814  [ 6464/60000]\n",
      "loss: 0.508937  [12864/60000]\n",
      "loss: 0.729200  [19264/60000]\n",
      "loss: 0.644163  [25664/60000]\n",
      "loss: 0.680063  [32064/60000]\n",
      "loss: 0.662562  [38464/60000]\n",
      "loss: 0.608378  [44864/60000]\n",
      "loss: 0.643657  [51264/60000]\n",
      "loss: 0.572100  [57664/60000]\n",
      "Test Error: \n",
      " Accuracy: 78.6%, Avg loss: 0.589824 \n",
      "\n",
      "Epoch 3\n",
      "-------------------------------\n",
      "loss: 0.517611  [   64/60000]\n",
      "loss: 0.677851  [ 6464/60000]\n",
      "loss: 0.386061  [12864/60000]\n",
      "loss: 0.625851  [19264/60000]\n",
      "loss: 0.565326  [25664/60000]\n",
      "loss: 0.576663  [32064/60000]\n",
      "loss: 0.551270  [38464/60000]\n",
      "loss: 0.577105  [44864/60000]\n",
      "loss: 0.568109  [51264/60000]\n",
      "loss: 0.525591  [57664/60000]\n",
      "Test Error: \n",
      " Accuracy: 81.0%, Avg loss: 0.525647 \n",
      "\n",
      "Epoch 4\n",
      "-------------------------------\n",
      "loss: 0.435218  [   64/60000]\n",
      "loss: 0.603085  [ 6464/60000]\n",
      "loss: 0.361773  [12864/60000]\n",
      "loss: 0.580527  [19264/60000]\n",
      "loss: 0.505421  [25664/60000]\n",
      "loss: 0.529005  [32064/60000]\n",
      "loss: 0.469494  [38464/60000]\n",
      "loss: 0.562273  [44864/60000]\n",
      "loss: 0.573554  [51264/60000]\n",
      "loss: 0.449020  [57664/60000]\n",
      "Test Error: \n",
      " Accuracy: 82.9%, Avg loss: 0.482648 \n",
      "\n",
      "Epoch 5\n",
      "-------------------------------\n",
      "loss: 0.375055  [   64/60000]\n",
      "loss: 0.558184  [ 6464/60000]\n",
      "loss: 0.324907  [12864/60000]\n",
      "loss: 0.558510  [19264/60000]\n",
      "loss: 0.498865  [25664/60000]\n",
      "loss: 0.457409  [32064/60000]\n",
      "loss: 0.442380  [38464/60000]\n",
      "loss: 0.558434  [44864/60000]\n",
      "loss: 0.550229  [51264/60000]\n",
      "loss: 0.427206  [57664/60000]\n",
      "Test Error: \n",
      " Accuracy: 84.1%, Avg loss: 0.450821 \n",
      "\n",
      "Epoch 6\n",
      "-------------------------------\n",
      "loss: 0.347964  [   64/60000]\n",
      "loss: 0.494201  [ 6464/60000]\n",
      "loss: 0.287300  [12864/60000]\n",
      "loss: 0.529252  [19264/60000]\n",
      "loss: 0.469735  [25664/60000]\n",
      "loss: 0.445067  [32064/60000]\n",
      "loss: 0.407840  [38464/60000]\n",
      "loss: 0.555360  [44864/60000]\n",
      "loss: 0.533701  [51264/60000]\n",
      "loss: 0.420704  [57664/60000]\n",
      "Test Error: \n",
      " Accuracy: 85.1%, Avg loss: 0.426584 \n",
      "\n",
      "Epoch 7\n",
      "-------------------------------\n",
      "loss: 0.295039  [   64/60000]\n",
      "loss: 0.480188  [ 6464/60000]\n",
      "loss: 0.270819  [12864/60000]\n",
      "loss: 0.499487  [19264/60000]\n",
      "loss: 0.452744  [25664/60000]\n",
      "loss: 0.441060  [32064/60000]\n",
      "loss: 0.371017  [38464/60000]\n",
      "loss: 0.584149  [44864/60000]\n",
      "loss: 0.523086  [51264/60000]\n",
      "loss: 0.433599  [57664/60000]\n",
      "Test Error: \n",
      " Accuracy: 85.9%, Avg loss: 0.406960 \n",
      "\n",
      "Epoch 8\n",
      "-------------------------------\n",
      "loss: 0.314790  [   64/60000]\n",
      "loss: 0.430809  [ 6464/60000]\n",
      "loss: 0.261042  [12864/60000]\n",
      "loss: 0.467762  [19264/60000]\n",
      "loss: 0.411857  [25664/60000]\n",
      "loss: 0.441748  [32064/60000]\n",
      "loss: 0.371333  [38464/60000]\n",
      "loss: 0.534622  [44864/60000]\n",
      "loss: 0.489201  [51264/60000]\n",
      "loss: 0.393185  [57664/60000]\n",
      "Test Error: \n",
      " Accuracy: 86.3%, Avg loss: 0.391302 \n",
      "\n",
      "Done!\n"
     ]
    }
   ],
   "source": [
    "epochs = 8\n",
    "for t in range(epochs):\n",
    "    print(f\"Epoch {t+1}\\n-------------------------------\")\n",
    "    train(train_dataloader, model, loss_fn, optimizer)\n",
    "    test(test_dataloader, model, loss_fn)\n",
    "print(\"Done!\")"
   ]
  },
  {
   "cell_type": "code",
   "execution_count": 9,
   "id": "3ccbd8c5",
   "metadata": {},
   "outputs": [
    {
     "name": "stdout",
     "output_type": "stream",
     "text": [
      "Saved PyTorch Model State to model.pth\n"
     ]
    }
   ],
   "source": [
    "torch.save(model.state_dict(), \"model.pth\")\n",
    "print(\"Saved PyTorch Model State to model.pth\")"
   ]
  },
  {
   "cell_type": "code",
   "execution_count": 10,
   "id": "3d9fb08b",
   "metadata": {},
   "outputs": [
    {
     "data": {
      "text/plain": [
       "<All keys matched successfully>"
      ]
     },
     "execution_count": 10,
     "metadata": {},
     "output_type": "execute_result"
    }
   ],
   "source": [
    "model = FMNist_CNN().to(device)\n",
    "model.load_state_dict(torch.load(\"model.pth\", weights_only=True))"
   ]
  },
  {
   "cell_type": "code",
   "execution_count": 11,
   "id": "63738ff7",
   "metadata": {},
   "outputs": [
    {
     "name": "stdout",
     "output_type": "stream",
     "text": [
      "Predicted: \"Ankle boot\", Actual: \"Ankle boot\"\n"
     ]
    }
   ],
   "source": [
    "classes = [\n",
    "    \"T-shirt/top\",\n",
    "    \"Trouser\",\n",
    "    \"Pullover\",\n",
    "    \"Dress\",\n",
    "    \"Coat\",\n",
    "    \"Sandal\",\n",
    "    \"Shirt\",\n",
    "    \"Sneaker\",\n",
    "    \"Bag\",\n",
    "    \"Ankle boot\",\n",
    "]\n",
    "\n",
    "model.eval()\n",
    "x, y = test_data[0][0], test_data[0][1]\n",
    "with torch.no_grad():\n",
    "    x = x.to(device)\n",
    "    x = x.unsqueeze(0) \n",
    "    pred = model(x)\n",
    "    predicted, actual = classes[pred[0].argmax(0)], classes[y]\n",
    "    print(f'Predicted: \"{predicted}\", Actual: \"{actual}\"')"
   ]
  },
  {
   "cell_type": "code",
   "execution_count": 1,
   "id": "ae6518f4",
   "metadata": {},
   "outputs": [],
   "source": [
    "import torch\n",
    "from torch import nn\n",
    "import numpy as np"
   ]
  },
  {
   "cell_type": "code",
   "execution_count": null,
   "id": "a5924433",
   "metadata": {},
   "outputs": [],
   "source": [
    "a = torch.FloatTensor(3, 2)"
   ]
  },
  {
   "cell_type": "code",
   "execution_count": null,
   "id": "dbe3de6c",
   "metadata": {},
   "outputs": [],
   "source": [
    "a"
   ]
  },
  {
   "cell_type": "code",
   "execution_count": null,
   "id": "9afe0041",
   "metadata": {},
   "outputs": [],
   "source": [
    "torch.zeros(3, 4)"
   ]
  },
  {
   "cell_type": "code",
   "execution_count": null,
   "id": "d6e4213e",
   "metadata": {},
   "outputs": [],
   "source": [
    "a.zero_()"
   ]
  },
  {
   "cell_type": "code",
   "execution_count": null,
   "id": "cbc6161f",
   "metadata": {},
   "outputs": [],
   "source": [
    "torch.FloatTensor([[1, 2, 3],\n",
    "                   [4, 5, 6],\n",
    "                   [7, 8, 9]])"
   ]
  },
  {
   "cell_type": "code",
   "execution_count": null,
   "id": "a1e4d307",
   "metadata": {},
   "outputs": [],
   "source": [
    "n = np.zeros(shape=(3, 2))\n",
    "n"
   ]
  },
  {
   "cell_type": "code",
   "execution_count": null,
   "id": "e9353132",
   "metadata": {},
   "outputs": [],
   "source": [
    "b = torch.tensor(n)\n",
    "b"
   ]
  },
  {
   "cell_type": "code",
   "execution_count": null,
   "id": "8034c84c",
   "metadata": {},
   "outputs": [],
   "source": [
    "n1 = np.zeros(shape=(3, 2),\n",
    "              dtype=np.float32)\n",
    "n1"
   ]
  },
  {
   "cell_type": "code",
   "execution_count": null,
   "id": "bc7ae84b",
   "metadata": {},
   "outputs": [],
   "source": [
    "torch.tensor(n1)"
   ]
  },
  {
   "cell_type": "code",
   "execution_count": null,
   "id": "391e9a0f",
   "metadata": {},
   "outputs": [],
   "source": [
    "a1 = torch.FloatTensor([1, 2, 3])\n",
    "a1"
   ]
  },
  {
   "cell_type": "code",
   "execution_count": null,
   "id": "ca1ed32b",
   "metadata": {},
   "outputs": [],
   "source": [
    "ca1 = a1.to(\"cuda\")\n",
    "ca1"
   ]
  },
  {
   "cell_type": "code",
   "execution_count": null,
   "id": "404e39f6",
   "metadata": {},
   "outputs": [],
   "source": [
    "a1 + 5"
   ]
  },
  {
   "cell_type": "code",
   "execution_count": null,
   "id": "1997ee2b",
   "metadata": {},
   "outputs": [],
   "source": [
    "ca1 + 5"
   ]
  },
  {
   "cell_type": "code",
   "execution_count": null,
   "id": "c6c06839",
   "metadata": {},
   "outputs": [],
   "source": [
    "ca1.device"
   ]
  },
  {
   "cell_type": "code",
   "execution_count": null,
   "id": "5656ba44",
   "metadata": {},
   "outputs": [],
   "source": [
    "v1 = torch.tensor([1.0, 1.0], requires_grad=True)\n",
    "v2 = torch.tensor([2.0, 2.0])"
   ]
  },
  {
   "cell_type": "code",
   "execution_count": null,
   "id": "3f28ae78",
   "metadata": {},
   "outputs": [],
   "source": [
    "v_sum = v1 + v2\n",
    "v_sum"
   ]
  },
  {
   "cell_type": "code",
   "execution_count": null,
   "id": "8798625b",
   "metadata": {},
   "outputs": [],
   "source": [
    "v_res = (v_sum * 2).sum()\n",
    "v_res"
   ]
  },
  {
   "cell_type": "code",
   "execution_count": null,
   "id": "ce4fd922",
   "metadata": {},
   "outputs": [],
   "source": [
    "v1.is_leaf, v2.is_leaf, v_sum.is_leaf, v_res.is_leaf"
   ]
  },
  {
   "cell_type": "code",
   "execution_count": null,
   "id": "b0cfa189",
   "metadata": {},
   "outputs": [],
   "source": [
    "v1.requires_grad, v2.requires_grad, v_sum.requires_grad, v_res.requires_grad"
   ]
  },
  {
   "cell_type": "code",
   "execution_count": null,
   "id": "e335f006",
   "metadata": {},
   "outputs": [],
   "source": [
    "v_res.backward()\n",
    "v1.grad, v2.grad, v_sum.grad, v_res.grad"
   ]
  },
  {
   "cell_type": "code",
   "execution_count": 2,
   "id": "e8a98929",
   "metadata": {},
   "outputs": [
    {
     "data": {
      "text/plain": [
       "(Linear(in_features=2, out_features=5, bias=True), tensor([1., 2.]))"
      ]
     },
     "execution_count": 2,
     "metadata": {},
     "output_type": "execute_result"
    }
   ],
   "source": [
    "l = nn.Linear(2, 5)\n",
    "v = torch.FloatTensor([1, 2])\n",
    "l, v"
   ]
  },
  {
   "cell_type": "code",
   "execution_count": 3,
   "id": "7cf02632",
   "metadata": {},
   "outputs": [
    {
     "data": {
      "text/plain": [
       "tensor([-1.1919, -0.4569,  1.3826, -1.8124, -0.4500], grad_fn=<ViewBackward0>)"
      ]
     },
     "execution_count": 3,
     "metadata": {},
     "output_type": "execute_result"
    }
   ],
   "source": [
    "l(v)"
   ]
  },
  {
   "cell_type": "code",
   "execution_count": 4,
   "id": "d595a9b5",
   "metadata": {},
   "outputs": [],
   "source": [
    "s = nn.Sequential(\n",
    "    nn.Linear(2, 5),\n",
    "    nn.ReLU(),\n",
    "    nn.Linear(5, 20),\n",
    "    nn.ReLU(),\n",
    "    nn.Linear(20, 10),\n",
    "    nn.Dropout(p=0.3),\n",
    "    nn.Softmax(dim=1)\n",
    ")"
   ]
  },
  {
   "cell_type": "code",
   "execution_count": 5,
   "id": "bb509005",
   "metadata": {},
   "outputs": [
    {
     "data": {
      "text/plain": [
       "Sequential(\n",
       "  (0): Linear(in_features=2, out_features=5, bias=True)\n",
       "  (1): ReLU()\n",
       "  (2): Linear(in_features=5, out_features=20, bias=True)\n",
       "  (3): ReLU()\n",
       "  (4): Linear(in_features=20, out_features=10, bias=True)\n",
       "  (5): Dropout(p=0.3, inplace=False)\n",
       "  (6): Softmax(dim=1)\n",
       ")"
      ]
     },
     "execution_count": 5,
     "metadata": {},
     "output_type": "execute_result"
    }
   ],
   "source": [
    "s"
   ]
  },
  {
   "cell_type": "code",
   "execution_count": 7,
   "id": "46fc2d51",
   "metadata": {},
   "outputs": [
    {
     "data": {
      "text/plain": [
       "tensor([[0.0905, 0.1664, 0.0905, 0.0905, 0.0793, 0.0905, 0.0905, 0.0679, 0.1223,\n",
       "         0.1116]], grad_fn=<SoftmaxBackward0>)"
      ]
     },
     "execution_count": 7,
     "metadata": {},
     "output_type": "execute_result"
    }
   ],
   "source": [
    "s(torch.FloatTensor([[1, 2]]))"
   ]
  },
  {
   "cell_type": "code",
   "execution_count": 4,
   "id": "894c416c",
   "metadata": {},
   "outputs": [],
   "source": [
    "# Creating Custom module\n",
    "\n",
    "class MyModule(nn.Module):\n",
    "    def __init__(self, num_inputs, num_classes, dropout_prob=0.3):\n",
    "        super(MyModule, self).__init__()\n",
    "        self.pipe = nn.Sequential(\n",
    "            nn.Linear(num_inputs, 5),\n",
    "            nn.ReLU(),\n",
    "            nn.Linear(5, 20),\n",
    "            nn.ReLU(),\n",
    "            nn.Linear(20, num_classes),\n",
    "            nn.Dropout(p=dropout_prob),\n",
    "            nn.Softmax(dim=1)\n",
    "        )\n",
    "\n",
    "    def forward(self, x):\n",
    "        return self.pipe(x)"
   ]
  },
  {
   "cell_type": "code",
   "execution_count": 6,
   "id": "57d40afc",
   "metadata": {},
   "outputs": [
    {
     "name": "stdout",
     "output_type": "stream",
     "text": [
      "MyModule(\n",
      "  (pipe): Sequential(\n",
      "    (0): Linear(in_features=2, out_features=5, bias=True)\n",
      "    (1): ReLU()\n",
      "    (2): Linear(in_features=5, out_features=20, bias=True)\n",
      "    (3): ReLU()\n",
      "    (4): Linear(in_features=20, out_features=3, bias=True)\n",
      "    (5): Dropout(p=0.3, inplace=False)\n",
      "    (6): Softmax(dim=1)\n",
      "  )\n",
      ")\n",
      "tensor([[0.3698, 0.3151, 0.3151]], grad_fn=<SoftmaxBackward0>)\n",
      "Cuda available: True\n",
      "Data from cuda: tensor([[0.3698, 0.3151, 0.3151]], device='cuda:0', grad_fn=<ToCopyBackward0>)\n"
     ]
    }
   ],
   "source": [
    "if __name__ == \"__main__\":\n",
    "    SNet = MyModule(num_inputs=2, num_classes=3)\n",
    "    print(SNet)\n",
    "    v = torch.FloatTensor([[2, 3]])\n",
    "    out = SNet(v)\n",
    "    print(out)\n",
    "    print(\"Cuda available:\", torch.cuda.is_available())\n",
    "    if torch.cuda.is_available():\n",
    "        print(f\"Data from cuda: {out.to('cuda')}\")"
   ]
  },
  {
   "cell_type": "code",
   "execution_count": 2,
   "id": "7dba7992",
   "metadata": {},
   "outputs": [],
   "source": [
    "x = torch.randn(1, 10)\n",
    "prev_h = torch.randn(1, 20)\n",
    "W_h = torch.randn(20, 20)\n",
    "W_x = torch.randn(20, 10)"
   ]
  },
  {
   "cell_type": "code",
   "execution_count": 3,
   "id": "bf5a0201",
   "metadata": {},
   "outputs": [
    {
     "ename": "RuntimeError",
     "evalue": "element 0 of tensors does not require grad and does not have a grad_fn",
     "output_type": "error",
     "traceback": [
      "\u001b[31m---------------------------------------------------------------------------\u001b[39m",
      "\u001b[31mRuntimeError\u001b[39m                              Traceback (most recent call last)",
      "\u001b[36mCell\u001b[39m\u001b[36m \u001b[39m\u001b[32mIn[3]\u001b[39m\u001b[32m, line 7\u001b[39m\n\u001b[32m      4\u001b[39m next_h = next_h.tanh()\n\u001b[32m      6\u001b[39m loss = next_h.sum()\n\u001b[32m----> \u001b[39m\u001b[32m7\u001b[39m \u001b[43mloss\u001b[49m\u001b[43m.\u001b[49m\u001b[43mbackward\u001b[49m\u001b[43m(\u001b[49m\u001b[43m)\u001b[49m\n",
      "\u001b[36mFile \u001b[39m\u001b[32mc:\\Users\\User\\Desktop\\VS_Code_Projects\\Reinforcement_learning\\.venv\\Lib\\site-packages\\torch\\_tensor.py:647\u001b[39m, in \u001b[36mTensor.backward\u001b[39m\u001b[34m(self, gradient, retain_graph, create_graph, inputs)\u001b[39m\n\u001b[32m    637\u001b[39m \u001b[38;5;28;01mif\u001b[39;00m has_torch_function_unary(\u001b[38;5;28mself\u001b[39m):\n\u001b[32m    638\u001b[39m     \u001b[38;5;28;01mreturn\u001b[39;00m handle_torch_function(\n\u001b[32m    639\u001b[39m         Tensor.backward,\n\u001b[32m    640\u001b[39m         (\u001b[38;5;28mself\u001b[39m,),\n\u001b[32m   (...)\u001b[39m\u001b[32m    645\u001b[39m         inputs=inputs,\n\u001b[32m    646\u001b[39m     )\n\u001b[32m--> \u001b[39m\u001b[32m647\u001b[39m \u001b[43mtorch\u001b[49m\u001b[43m.\u001b[49m\u001b[43mautograd\u001b[49m\u001b[43m.\u001b[49m\u001b[43mbackward\u001b[49m\u001b[43m(\u001b[49m\n\u001b[32m    648\u001b[39m \u001b[43m    \u001b[49m\u001b[38;5;28;43mself\u001b[39;49m\u001b[43m,\u001b[49m\u001b[43m \u001b[49m\u001b[43mgradient\u001b[49m\u001b[43m,\u001b[49m\u001b[43m \u001b[49m\u001b[43mretain_graph\u001b[49m\u001b[43m,\u001b[49m\u001b[43m \u001b[49m\u001b[43mcreate_graph\u001b[49m\u001b[43m,\u001b[49m\u001b[43m \u001b[49m\u001b[43minputs\u001b[49m\u001b[43m=\u001b[49m\u001b[43minputs\u001b[49m\n\u001b[32m    649\u001b[39m \u001b[43m\u001b[49m\u001b[43m)\u001b[49m\n",
      "\u001b[36mFile \u001b[39m\u001b[32mc:\\Users\\User\\Desktop\\VS_Code_Projects\\Reinforcement_learning\\.venv\\Lib\\site-packages\\torch\\autograd\\__init__.py:354\u001b[39m, in \u001b[36mbackward\u001b[39m\u001b[34m(tensors, grad_tensors, retain_graph, create_graph, grad_variables, inputs)\u001b[39m\n\u001b[32m    349\u001b[39m     retain_graph = create_graph\n\u001b[32m    351\u001b[39m \u001b[38;5;66;03m# The reason we repeat the same comment below is that\u001b[39;00m\n\u001b[32m    352\u001b[39m \u001b[38;5;66;03m# some Python versions print out the first line of a multi-line function\u001b[39;00m\n\u001b[32m    353\u001b[39m \u001b[38;5;66;03m# calls in the traceback and some print out the last line\u001b[39;00m\n\u001b[32m--> \u001b[39m\u001b[32m354\u001b[39m \u001b[43m_engine_run_backward\u001b[49m\u001b[43m(\u001b[49m\n\u001b[32m    355\u001b[39m \u001b[43m    \u001b[49m\u001b[43mtensors\u001b[49m\u001b[43m,\u001b[49m\n\u001b[32m    356\u001b[39m \u001b[43m    \u001b[49m\u001b[43mgrad_tensors_\u001b[49m\u001b[43m,\u001b[49m\n\u001b[32m    357\u001b[39m \u001b[43m    \u001b[49m\u001b[43mretain_graph\u001b[49m\u001b[43m,\u001b[49m\n\u001b[32m    358\u001b[39m \u001b[43m    \u001b[49m\u001b[43mcreate_graph\u001b[49m\u001b[43m,\u001b[49m\n\u001b[32m    359\u001b[39m \u001b[43m    \u001b[49m\u001b[43minputs_tuple\u001b[49m\u001b[43m,\u001b[49m\n\u001b[32m    360\u001b[39m \u001b[43m    \u001b[49m\u001b[43mallow_unreachable\u001b[49m\u001b[43m=\u001b[49m\u001b[38;5;28;43;01mTrue\u001b[39;49;00m\u001b[43m,\u001b[49m\n\u001b[32m    361\u001b[39m \u001b[43m    \u001b[49m\u001b[43maccumulate_grad\u001b[49m\u001b[43m=\u001b[49m\u001b[38;5;28;43;01mTrue\u001b[39;49;00m\u001b[43m,\u001b[49m\n\u001b[32m    362\u001b[39m \u001b[43m\u001b[49m\u001b[43m)\u001b[49m\n",
      "\u001b[36mFile \u001b[39m\u001b[32mc:\\Users\\User\\Desktop\\VS_Code_Projects\\Reinforcement_learning\\.venv\\Lib\\site-packages\\torch\\autograd\\graph.py:829\u001b[39m, in \u001b[36m_engine_run_backward\u001b[39m\u001b[34m(t_outputs, *args, **kwargs)\u001b[39m\n\u001b[32m    827\u001b[39m     unregister_hooks = _register_logging_hooks_on_whole_graph(t_outputs)\n\u001b[32m    828\u001b[39m \u001b[38;5;28;01mtry\u001b[39;00m:\n\u001b[32m--> \u001b[39m\u001b[32m829\u001b[39m     \u001b[38;5;28;01mreturn\u001b[39;00m \u001b[43mVariable\u001b[49m\u001b[43m.\u001b[49m\u001b[43m_execution_engine\u001b[49m\u001b[43m.\u001b[49m\u001b[43mrun_backward\u001b[49m\u001b[43m(\u001b[49m\u001b[43m  \u001b[49m\u001b[38;5;66;43;03m# Calls into the C++ engine to run the backward pass\u001b[39;49;00m\n\u001b[32m    830\u001b[39m \u001b[43m        \u001b[49m\u001b[43mt_outputs\u001b[49m\u001b[43m,\u001b[49m\u001b[43m \u001b[49m\u001b[43m*\u001b[49m\u001b[43margs\u001b[49m\u001b[43m,\u001b[49m\u001b[43m \u001b[49m\u001b[43m*\u001b[49m\u001b[43m*\u001b[49m\u001b[43mkwargs\u001b[49m\n\u001b[32m    831\u001b[39m \u001b[43m    \u001b[49m\u001b[43m)\u001b[49m  \u001b[38;5;66;03m# Calls into the C++ engine to run the backward pass\u001b[39;00m\n\u001b[32m    832\u001b[39m \u001b[38;5;28;01mfinally\u001b[39;00m:\n\u001b[32m    833\u001b[39m     \u001b[38;5;28;01mif\u001b[39;00m attach_logging_hooks:\n",
      "\u001b[31mRuntimeError\u001b[39m: element 0 of tensors does not require grad and does not have a grad_fn"
     ]
    }
   ],
   "source": [
    "i2h = torch.mm(W_x, x.t())\n",
    "h2h = torch.mm(W_h, prev_h.t())\n",
    "next_h = i2h + h2h\n",
    "next_h = next_h.tanh()\n",
    "\n",
    "loss = next_h.sum()\n",
    "loss.backward()"
   ]
  },
  {
   "cell_type": "code",
   "execution_count": null,
   "id": "1641d059",
   "metadata": {},
   "outputs": [],
   "source": [
    "import torch\n",
    "import torch.nn as nn\n",
    "import torch.optim as optim\n",
    "from torch.utils.data import DataLoader, Dataset\n",
    "import torchvision.transforms as transforms\n",
    "from torchvision.datasets import ImageFolder\n",
    "import timm\n",
    "import matplotlib.pyplot as plt\n",
    "import numpy as np\n",
    "import pandas as pd\n",
    "#from tqdm import tqdm"
   ]
  },
  {
   "cell_type": "code",
   "execution_count": null,
   "id": "8f0d3c96",
   "metadata": {},
   "outputs": [],
   "source": [
    "class PlayingCardDataset(Dataset):\n",
    "    \"\"\"A custom dataset class for loading playing card images.\"\"\"\n",
    "    def __init__(self, data_dir, transform=None):\n",
    "        self.data = ImageFolder(root=data_dir, transform=transform)\n",
    "        \n",
    "    def __len__(self):\n",
    "        return len(self.data)\n",
    "\n",
    "    def __getitem__(self, idx):\n",
    "        return self.data[idx]\n",
    "    \n",
    "    @property\n",
    "    def classes(self):\n",
    "        return self.data.classes"
   ]
  },
  {
   "cell_type": "code",
   "execution_count": null,
   "id": "bc5fb862",
   "metadata": {},
   "outputs": [],
   "source": [
    "dataset = PlayingCardDataset(data_dir=\"data/Cards/train\")"
   ]
  },
  {
   "cell_type": "code",
   "execution_count": null,
   "id": "ee29b574",
   "metadata": {},
   "outputs": [],
   "source": [
    "len(dataset)"
   ]
  },
  {
   "cell_type": "code",
   "execution_count": null,
   "id": "2f83b159",
   "metadata": {},
   "outputs": [],
   "source": [
    "image, label = dataset[1001]"
   ]
  },
  {
   "cell_type": "code",
   "execution_count": null,
   "id": "68622552",
   "metadata": {},
   "outputs": [],
   "source": [
    "image"
   ]
  },
  {
   "cell_type": "code",
   "execution_count": null,
   "id": "99826e60",
   "metadata": {},
   "outputs": [],
   "source": [
    "print(label)"
   ]
  },
  {
   "cell_type": "code",
   "execution_count": null,
   "id": "5b5b75da",
   "metadata": {},
   "outputs": [],
   "source": [
    "data_dir = \"data/Cards/train\"\n",
    "target_to_class = {v: k for k, v in ImageFolder(root=data_dir).class_to_idx.items()}\n",
    "target_to_class"
   ]
  },
  {
   "cell_type": "code",
   "execution_count": null,
   "id": "07b77b19",
   "metadata": {},
   "outputs": [],
   "source": [
    "# Define the image transformation\n",
    "transform = transforms.Compose([\n",
    "    transforms.Resize((128, 128)),\n",
    "    transforms.ToTensor(),\n",
    "])"
   ]
  },
  {
   "cell_type": "code",
   "execution_count": null,
   "id": "d2252955",
   "metadata": {},
   "outputs": [],
   "source": [
    "data_dir = \"data/Cards/train\"\n",
    "dataset = PlayingCardDataset(data_dir=data_dir, transform=transform)"
   ]
  },
  {
   "cell_type": "code",
   "execution_count": null,
   "id": "e4534cc7",
   "metadata": {},
   "outputs": [],
   "source": [
    "image, label = dataset[2000]\n",
    "image.shape, label"
   ]
  },
  {
   "cell_type": "code",
   "execution_count": null,
   "id": "ce28ce41",
   "metadata": {},
   "outputs": [],
   "source": [
    "dataloader = DataLoader(dataset, batch_size=32, shuffle=True)"
   ]
  },
  {
   "cell_type": "code",
   "execution_count": null,
   "id": "c4386dbb",
   "metadata": {},
   "outputs": [],
   "source": [
    "class SimpleCardClassifier(nn.Module):\n",
    "    \"\"\"A simple classifier for playing cards using EfficientNet.\"\"\"\n",
    "    def __init__(self, num_classes=53):\n",
    "        super(SimpleCardClassifier, self).__init__()\n",
    "        self.base_model = timm.create_model(\"efficientnet_b0\", pretrained=True)\n",
    "        self.features = nn.Sequential(*list(self.base_model.children())[:-1]) \n",
    "        enet_out_size = 1280\n",
    "        self.classiier = nn.Linear(enet_out_size, num_classes)\n",
    "\n",
    "    def forward(self, x):\n",
    "        x = self.features(x)\n",
    "        x = self.classiier(x)\n",
    "        return x"
   ]
  },
  {
   "cell_type": "code",
   "execution_count": null,
   "id": "bef5001f",
   "metadata": {},
   "outputs": [],
   "source": [
    "SNet = SimpleCardClassifier(num_classes=len(dataset.classes))\n",
    "print(str(SNet)[:500])"
   ]
  },
  {
   "cell_type": "code",
   "execution_count": null,
   "id": "252c8d99",
   "metadata": {},
   "outputs": [],
   "source": [
    "criterion = nn.CrossEntropyLoss()\n",
    "optimizer = optim.Adam(SNet.parameters(), lr=0.001)"
   ]
  },
  {
   "cell_type": "code",
   "execution_count": null,
   "id": "2afdbf41",
   "metadata": {},
   "outputs": [],
   "source": [
    "train_dataset = PlayingCardDataset(\"data/Cards/train\", transform=transform)\n",
    "valid_dataset = PlayingCardDataset(\"data/Cards/valid\", transform=transform)\n",
    "test_dataset = PlayingCardDataset(\"data/Cards/test\", transform=transform)\n",
    "\n",
    "train_loader = DataLoader(train_dataset, batch_size=32, shuffle=True)\n",
    "valid_loader = DataLoader(valid_dataset, batch_size=32, shuffle=False)\n",
    "test_loader = DataLoader(test_dataset, batch_size=32, shuffle=False)"
   ]
  },
  {
   "cell_type": "code",
   "execution_count": null,
   "id": "81937492",
   "metadata": {},
   "outputs": [],
   "source": [
    "device = torch.device(\"cuda\" if torch.cuda.is_available() else \"cpu\")\n",
    "device"
   ]
  },
  {
   "cell_type": "code",
   "execution_count": null,
   "id": "93181e9b",
   "metadata": {},
   "outputs": [],
   "source": [
    "# Training the neural net for 7 epochs\n",
    "num_epochs = 7\n",
    "train_losses, val_losses = [], []\n",
    "SNet.to(device)\n",
    "\n",
    "for epoch in range(num_epochs):\n",
    "    SNet.train()\n",
    "    running_loss = 0.0  \n",
    "    for images, labels in train_loader:\n",
    "        images, labels = images.to(device), labels.to(device)\n",
    "        optimizer.zero_grad()\n",
    "        outputs = SNet(images)\n",
    "        loss = criterion(outputs, labels)\n",
    "        loss.backward()\n",
    "        optimizer.step()\n",
    "        running_loss += loss.item() * images.size(0)\n",
    "    train_loss = running_loss / len(train_loader.dataset)\n",
    "    train_losses.append(train_loss)\n",
    "\n",
    "    SNet.eval()\n",
    "    running_loss = 0.0\n",
    "    with torch.no_grad():\n",
    "        for images, labels in valid_loader:\n",
    "            images, labels = images.to(device), labels.to(device)\n",
    "            outputs = SNet(images)\n",
    "            loss = criterion(outputs, labels)\n",
    "            running_loss += loss.item() * images.size(0)\n",
    "    val_loss = running_loss/len(valid_loader.dataset)\n",
    "    val_losses.append(val_loss)\n",
    "    print(f\"Epoch {epoch+1}/{num_epochs} - Train loss: {train_loss}, Validation loss: {val_loss}\")"
   ]
  },
  {
   "cell_type": "code",
   "execution_count": null,
   "id": "582f608a",
   "metadata": {},
   "outputs": [],
   "source": [
    "plt.plot(train_losses, label='Training loss')\n",
    "plt.plot(val_losses, label='Validation loss')\n",
    "plt.legend()\n",
    "plt.title(\"Loss over epochs\")\n",
    "plt.show()"
   ]
  },
  {
   "cell_type": "code",
   "execution_count": null,
   "id": "1daae296",
   "metadata": {},
   "outputs": [],
   "source": [
    "# Compute accuracy on the test set\n",
    "from sklearn.metrics import accuracy_score\n",
    "all_labels = []\n",
    "all_preds = []\n",
    "\n",
    "with torch.no_grad():\n",
    "    for images, labels in test_loader:\n",
    "        images, labels = images.to(device), labels.to(device)\n",
    "\n",
    "        outputs = SNet(images)\n",
    "        _, predicted = torch.max(outputs, 1)\n",
    "\n",
    "        all_labels.extend(labels.cpu().numpy())\n",
    "        all_preds.extend(predicted.cpu().numpy())\n",
    "\n",
    "acc = accuracy_score(all_labels, all_preds)\n",
    "print(f\"Test Accuracy: {acc * 100:.2f}%\")"
   ]
  },
  {
   "cell_type": "code",
   "execution_count": null,
   "id": "7a92b668",
   "metadata": {},
   "outputs": [],
   "source": [
    "# Test the model with a single image\n",
    "SNet.eval()\n",
    "dataiter = iter(test_loader)\n",
    "images, labels = next(dataiter)\n",
    "x, y = images[1], labels[1]\n",
    "with torch.no_grad():\n",
    "    x = x.to(device)\n",
    "    x = x.unsqueeze(0) \n",
    "    pred = SNet(x)\n",
    "    predicted, actual = dataset.classes[pred[0].argmax(0)], dataset.classes[y]\n",
    "    print(f'Predicted: \"{predicted}\", Actual: \"{actual}\"')"
   ]
  },
  {
   "cell_type": "code",
   "execution_count": 10,
   "id": "d6e1fefb",
   "metadata": {},
   "outputs": [],
   "source": [
    "import torch\n",
    "from torch import nn\n",
    "from torch.utils.data import DataLoader\n",
    "from torchvision import datasets\n",
    "from torchvision.transforms import ToTensor\n",
    "import torch.nn.functional as F\n",
    "import matplotlib.pyplot as plt\n",
    "import numpy as np"
   ]
  },
  {
   "cell_type": "code",
   "execution_count": 2,
   "id": "0e672749",
   "metadata": {},
   "outputs": [],
   "source": [
    "# Download training data from open datasets.\n",
    "training_data = datasets.EMNIST(\n",
    "    root=\"data\",\n",
    "    split=\"byclass\",\n",
    "    train=True,\n",
    "    download=True,\n",
    "    transform=ToTensor(),\n",
    ")\n",
    "\n",
    "# Download test data from open datasets.\n",
    "test_data = datasets.EMNIST(\n",
    "    root=\"data\",\n",
    "    split=\"byclass\",\n",
    "    train=False,\n",
    "    download=True,\n",
    "    transform=ToTensor(),\n",
    ")\n"
   ]
  },
  {
   "cell_type": "code",
   "execution_count": 8,
   "id": "8a008226",
   "metadata": {},
   "outputs": [
    {
     "name": "stdout",
     "output_type": "stream",
     "text": [
      "['0', '1', '2', '3', '4', '5', '6', '7', '8', '9', 'A', 'B', 'C', 'D', 'E', 'F', 'G', 'H', 'I', 'J', 'K', 'L', 'M', 'N', 'O', 'P', 'Q', 'R', 'S', 'T', 'U', 'V', 'W', 'X', 'Y', 'Z', 'a', 'b', 'c', 'd', 'e', 'f', 'g', 'h', 'i', 'j', 'k', 'l', 'm', 'n', 'o', 'p', 'q', 'r', 's', 't', 'u', 'v', 'w', 'x', 'y', 'z']\n"
     ]
    }
   ],
   "source": [
    "class_names = training_data.classes\n",
    "print(class_names)"
   ]
  },
  {
   "cell_type": "code",
   "execution_count": 14,
   "id": "076137ad",
   "metadata": {},
   "outputs": [
    {
     "data": {
      "image/png": "[encoded data removed]",
      "text/plain": [
       "<Figure size 1000x1000 with 25 Axes>"
      ]
     },
     "metadata": {},
     "output_type": "display_data"
    }
   ],
   "source": [
    "# Script to visualize random images from the EMNIST dataset\n",
    "num_images_to_show = 25\n",
    "random_indices = np.random.randint(0, len(training_data), size=num_images_to_show)\n",
    "\n",
    "fig, axes = plt.subplots(5, 5, figsize=(10, 10))\n",
    "axes = axes.ravel()\n",
    "\n",
    "for i, idx in enumerate(random_indices):\n",
    "    image, label = training_data[idx]\n",
    "    \n",
    "   \n",
    "    image = image.permute(0, 2, 1)  # Transpose the image tensor\n",
    "    #image = torch.flip(image, [2]) \n",
    "\n",
    "    # Display the image\n",
    "    axes[i].imshow(image.squeeze(), cmap='gray')\n",
    "    # Set the title of the subplot to the corresponding class name\n",
    "    axes[i].set_title(f'Label: {class_names[label]}')\n",
    "    # Turn off axis ticks\n",
    "    axes[i].axis('off')\n",
    "\n",
    "plt.tight_layout()\n",
    "plt.show()"
   ]
  },
  {
   "cell_type": "code",
   "execution_count": 15,
   "id": "b947f7d9",
   "metadata": {},
   "outputs": [
    {
     "name": "stdout",
     "output_type": "stream",
     "text": [
      "Shape of X [N, C, H, W]: torch.Size([128, 1, 28, 28])\n",
      "Shape of y: torch.Size([128]) torch.int64\n"
     ]
    }
   ],
   "source": [
    "batch_size = 128\n",
    "\n",
    "# Create data loaders.\n",
    "train_dataloader = DataLoader(training_data, batch_size=batch_size)\n",
    "test_dataloader = DataLoader(test_data, batch_size=batch_size)\n",
    "\n",
    "for X, y in test_dataloader:\n",
    "    print(f\"Shape of X [N, C, H, W]: {X.shape}\")\n",
    "    print(f\"Shape of y: {y.shape} {y.dtype}\")\n",
    "    break"
   ]
  },
  {
   "cell_type": "code",
   "execution_count": 17,
   "id": "68f1d1e3",
   "metadata": {},
   "outputs": [
    {
     "name": "stdout",
     "output_type": "stream",
     "text": [
      "Using cuda device\n",
      "NeuralNetwork(\n",
      "  (conv1): Conv2d(1, 32, kernel_size=(5, 5), stride=(1, 1), padding=(2, 2))\n",
      "  (conv2): Conv2d(32, 64, kernel_size=(3, 3), stride=(1, 1), padding=(1, 1))\n",
      "  (conv3): Conv2d(64, 128, kernel_size=(3, 3), stride=(1, 1), padding=(1, 1))\n",
      "  (conv4): Conv2d(128, 256, kernel_size=(3, 3), stride=(1, 1), padding=(1, 1))\n",
      "  (adaptive): AdaptiveAvgPool2d(output_size=(4, 4))\n",
      "  (fc): Linear(in_features=4096, out_features=62, bias=True)\n",
      ")\n"
     ]
    }
   ],
   "source": [
    "device = torch.accelerator.current_accelerator().type if torch.accelerator.is_available() else \"cpu\"\n",
    "print(f\"Using {device} device\")\n",
    "\n",
    "# Define model\n",
    "class NeuralNetwork(nn.Module):\n",
    "    def __init__(self, out_classes=62):\n",
    "        super().__init__()\n",
    "        self.conv1 = nn.Conv2d(1, 32, 5, stride=1, padding=2)\n",
    "        self.conv2 = nn.Conv2d(32, 64, 3, stride=1, padding=1)\n",
    "        self.conv3 = nn.Conv2d(64, 128, 3, stride=1, padding=1)\n",
    "        self.conv4 = nn.Conv2d(128, 256, 3, stride=1, padding=1)\n",
    "        self.adaptive = nn.AdaptiveAvgPool2d(output_size=(4, 4))\n",
    "        self.fc = nn.Linear(4*4*256, out_classes)\n",
    "\n",
    "    def forward(self, x):\n",
    "        x = F.relu(self.conv1(x))\n",
    "        x = F.max_pool2d(F.relu(self.conv2(x)), 2, 2)\n",
    "        x = F.relu(self.conv3(x))\n",
    "        x = F.max_pool2d(F.relu(self.conv4(x)), 2, 2)\n",
    "        x = self.adaptive(x)\n",
    "        x = x.reshape(x.shape[0], -1)\n",
    "        x = self.fc(x)\n",
    "        return x\n",
    "\n",
    "model = NeuralNetwork().to(device)\n",
    "print(model)"
   ]
  },
  {
   "cell_type": "code",
   "execution_count": 18,
   "id": "36486f64",
   "metadata": {},
   "outputs": [],
   "source": [
    "loss_fn = nn.CrossEntropyLoss()\n",
    "optimizer = torch.optim.SGD(model.parameters(), lr=1e-3)"
   ]
  },
  {
   "cell_type": "code",
   "execution_count": 19,
   "id": "10776d99",
   "metadata": {},
   "outputs": [],
   "source": [
    "def train(dataloader, model, loss_fn, optimizer):\n",
    "    size = len(dataloader.dataset)\n",
    "    model.train()\n",
    "    for batch, (X, y) in enumerate(dataloader):\n",
    "        X, y = X.to(device), y.to(device)\n",
    "\n",
    "        # Compute prediction error\n",
    "        pred = model(X)\n",
    "        loss = loss_fn(pred, y)\n",
    "\n",
    "        # Backpropagation\n",
    "        loss.backward()\n",
    "        optimizer.step()\n",
    "        optimizer.zero_grad()\n",
    "\n",
    "        if batch % 100 == 0:\n",
    "            loss, current = loss.item(), (batch + 1) * len(X)\n",
    "            print(f\"loss: {loss:>7f}  [{current:>5d}/{size:>5d}]\")"
   ]
  },
  {
   "cell_type": "code",
   "execution_count": 20,
   "id": "e5131918",
   "metadata": {},
   "outputs": [],
   "source": [
    "def test(dataloader, model, loss_fn):\n",
    "    size = len(dataloader.dataset)\n",
    "    num_batches = len(dataloader)\n",
    "    model.eval()\n",
    "    test_loss, correct = 0, 0\n",
    "    with torch.no_grad():\n",
    "        for X, y in dataloader:\n",
    "            X, y = X.to(device), y.to(device)\n",
    "            pred = model(X)\n",
    "            test_loss += loss_fn(pred, y).item()\n",
    "            correct += (pred.argmax(1) == y).type(torch.float).sum().item()\n",
    "    test_loss /= num_batches\n",
    "    correct /= size\n",
    "    print(f\"Test Error: \\n Accuracy: {(100*correct):>0.1f}%, Avg loss: {test_loss:>8f} \\n\")"
   ]
  },
  {
   "cell_type": "code",
   "execution_count": 21,
   "id": "57ca9833",
   "metadata": {},
   "outputs": [
    {
     "name": "stdout",
     "output_type": "stream",
     "text": [
      "Epoch 1\n",
      "-------------------------------\n",
      "loss: 4.128001  [  128/697932]\n",
      "loss: 4.117979  [12928/697932]\n",
      "loss: 4.112479  [25728/697932]\n",
      "loss: 4.110578  [38528/697932]\n",
      "loss: 4.099702  [51328/697932]\n",
      "loss: 4.086123  [64128/697932]\n",
      "loss: 4.084318  [76928/697932]\n",
      "loss: 4.074463  [89728/697932]\n",
      "loss: 4.048310  [102528/697932]\n",
      "loss: 4.020190  [115328/697932]\n",
      "loss: 4.006731  [128128/697932]\n",
      "loss: 3.938433  [140928/697932]\n",
      "loss: 3.818648  [153728/697932]\n",
      "loss: 3.685324  [166528/697932]\n",
      "loss: 3.775425  [179328/697932]\n",
      "loss: 3.631689  [192128/697932]\n",
      "loss: 3.587187  [204928/697932]\n",
      "loss: 3.645915  [217728/697932]\n",
      "loss: 3.476231  [230528/697932]\n",
      "loss: 3.641332  [243328/697932]\n",
      "loss: 3.635287  [256128/697932]\n",
      "loss: 3.660147  [268928/697932]\n",
      "loss: 3.525511  [281728/697932]\n",
      "loss: 3.420835  [294528/697932]\n",
      "loss: 3.380280  [307328/697932]\n",
      "loss: 3.244473  [320128/697932]\n",
      "loss: 3.164767  [332928/697932]\n",
      "loss: 3.023037  [345728/697932]\n",
      "loss: 2.883508  [358528/697932]\n",
      "loss: 2.673294  [371328/697932]\n",
      "loss: 2.375830  [384128/697932]\n",
      "loss: 2.273112  [396928/697932]\n",
      "loss: 2.315125  [409728/697932]\n",
      "loss: 2.070668  [422528/697932]\n",
      "loss: 2.043968  [435328/697932]\n",
      "loss: 1.995525  [448128/697932]\n",
      "loss: 2.039495  [460928/697932]\n",
      "loss: 1.907715  [473728/697932]\n",
      "loss: 1.686067  [486528/697932]\n",
      "loss: 1.865820  [499328/697932]\n",
      "loss: 1.997043  [512128/697932]\n",
      "loss: 1.501702  [524928/697932]\n",
      "loss: 1.673268  [537728/697932]\n",
      "loss: 1.814976  [550528/697932]\n",
      "loss: 1.793865  [563328/697932]\n",
      "loss: 1.792119  [576128/697932]\n",
      "loss: 1.899808  [588928/697932]\n",
      "loss: 1.818661  [601728/697932]\n",
      "loss: 1.550712  [614528/697932]\n",
      "loss: 1.835055  [627328/697932]\n",
      "loss: 1.763641  [640128/697932]\n",
      "loss: 1.692957  [652928/697932]\n",
      "loss: 1.336527  [665728/697932]\n",
      "loss: 1.477020  [678528/697932]\n",
      "loss: 1.750077  [691328/697932]\n",
      "Test Error: \n",
      " Accuracy: 54.5%, Avg loss: 1.630989 \n",
      "\n",
      "Epoch 2\n",
      "-------------------------------\n",
      "loss: 1.719476  [  128/697932]\n",
      "loss: 1.355721  [12928/697932]\n",
      "loss: 1.434276  [25728/697932]\n",
      "loss: 1.674336  [38528/697932]\n",
      "loss: 1.629488  [51328/697932]\n",
      "loss: 1.212724  [64128/697932]\n",
      "loss: 1.725109  [76928/697932]\n",
      "loss: 1.665931  [89728/697932]\n",
      "loss: 1.768543  [102528/697932]\n",
      "loss: 1.630035  [115328/697932]\n",
      "loss: 1.380835  [128128/697932]\n",
      "loss: 1.649679  [140928/697932]\n",
      "loss: 1.375593  [153728/697932]\n",
      "loss: 1.470899  [166528/697932]\n",
      "loss: 1.747848  [179328/697932]\n",
      "loss: 1.629969  [192128/697932]\n",
      "loss: 1.408082  [204928/697932]\n",
      "loss: 1.371706  [217728/697932]\n",
      "loss: 1.380168  [230528/697932]\n",
      "loss: 1.535133  [243328/697932]\n",
      "loss: 1.520617  [256128/697932]\n",
      "loss: 1.770738  [268928/697932]\n",
      "loss: 1.759697  [281728/697932]\n",
      "loss: 1.375288  [294528/697932]\n",
      "loss: 1.429108  [307328/697932]\n",
      "loss: 1.521410  [320128/697932]\n",
      "loss: 1.257629  [332928/697932]\n",
      "loss: 1.346374  [345728/697932]\n",
      "loss: 1.372362  [358528/697932]\n",
      "loss: 1.295850  [371328/697932]\n",
      "loss: 1.141788  [384128/697932]\n",
      "loss: 1.381291  [396928/697932]\n",
      "loss: 1.644347  [409728/697932]\n",
      "loss: 1.236915  [422528/697932]\n",
      "loss: 1.459021  [435328/697932]\n",
      "loss: 1.383832  [448128/697932]\n",
      "loss: 1.381014  [460928/697932]\n",
      "loss: 1.304407  [473728/697932]\n",
      "loss: 1.198328  [486528/697932]\n",
      "loss: 1.474558  [499328/697932]\n",
      "loss: 1.561334  [512128/697932]\n",
      "loss: 1.209062  [524928/697932]\n",
      "loss: 1.223230  [537728/697932]\n",
      "loss: 1.310738  [550528/697932]\n",
      "loss: 1.359982  [563328/697932]\n",
      "loss: 1.307490  [576128/697932]\n",
      "loss: 1.422288  [588928/697932]\n",
      "loss: 1.389521  [601728/697932]\n",
      "loss: 1.154848  [614528/697932]\n",
      "loss: 1.414168  [627328/697932]\n",
      "loss: 1.251437  [640128/697932]\n",
      "loss: 1.254123  [652928/697932]\n",
      "loss: 0.998558  [665728/697932]\n",
      "loss: 0.929304  [678528/697932]\n",
      "loss: 1.427982  [691328/697932]\n",
      "Test Error: \n",
      " Accuracy: 65.0%, Avg loss: 1.218543 \n",
      "\n",
      "Epoch 3\n",
      "-------------------------------\n",
      "loss: 1.333595  [  128/697932]\n",
      "loss: 1.031416  [12928/697932]\n",
      "loss: 1.052902  [25728/697932]\n",
      "loss: 1.243881  [38528/697932]\n",
      "loss: 1.141036  [51328/697932]\n",
      "loss: 0.890076  [64128/697932]\n",
      "loss: 1.278094  [76928/697932]\n",
      "loss: 1.235504  [89728/697932]\n",
      "loss: 1.260030  [102528/697932]\n",
      "loss: 1.260804  [115328/697932]\n",
      "loss: 1.009912  [128128/697932]\n",
      "loss: 1.254697  [140928/697932]\n",
      "loss: 1.006226  [153728/697932]\n",
      "loss: 1.011839  [166528/697932]\n",
      "loss: 1.279943  [179328/697932]\n",
      "loss: 1.132116  [192128/697932]\n",
      "loss: 0.981231  [204928/697932]\n",
      "loss: 0.933552  [217728/697932]\n",
      "loss: 1.040567  [230528/697932]\n",
      "loss: 1.060394  [243328/697932]\n",
      "loss: 1.079836  [256128/697932]\n",
      "loss: 1.207427  [268928/697932]\n",
      "loss: 1.268741  [281728/697932]\n",
      "loss: 0.986770  [294528/697932]\n",
      "loss: 1.011442  [307328/697932]\n",
      "loss: 1.036706  [320128/697932]\n",
      "loss: 0.884632  [332928/697932]\n",
      "loss: 0.945856  [345728/697932]\n",
      "loss: 0.961398  [358528/697932]\n",
      "loss: 0.850350  [371328/697932]\n",
      "loss: 0.769537  [384128/697932]\n",
      "loss: 0.915485  [396928/697932]\n",
      "loss: 1.118369  [409728/697932]\n",
      "loss: 0.802296  [422528/697932]\n",
      "loss: 1.024847  [435328/697932]\n",
      "loss: 1.002855  [448128/697932]\n",
      "loss: 0.961578  [460928/697932]\n",
      "loss: 0.867827  [473728/697932]\n",
      "loss: 0.839667  [486528/697932]\n",
      "loss: 1.160926  [499328/697932]\n",
      "loss: 0.979307  [512128/697932]\n",
      "loss: 0.985492  [524928/697932]\n",
      "loss: 0.808282  [537728/697932]\n",
      "loss: 0.967063  [550528/697932]\n",
      "loss: 1.015151  [563328/697932]\n",
      "loss: 0.903437  [576128/697932]\n",
      "loss: 1.018134  [588928/697932]\n",
      "loss: 0.900586  [601728/697932]\n",
      "loss: 0.866546  [614528/697932]\n",
      "loss: 1.015979  [627328/697932]\n",
      "loss: 0.883170  [640128/697932]\n",
      "loss: 0.899989  [652928/697932]\n",
      "loss: 0.757439  [665728/697932]\n",
      "loss: 0.618413  [678528/697932]\n",
      "loss: 1.099358  [691328/697932]\n",
      "Test Error: \n",
      " Accuracy: 74.1%, Avg loss: 0.865628 \n",
      "\n",
      "Epoch 4\n",
      "-------------------------------\n",
      "loss: 0.956102  [  128/697932]\n",
      "loss: 0.741374  [12928/697932]\n",
      "loss: 0.752218  [25728/697932]\n",
      "loss: 0.881845  [38528/697932]\n",
      "loss: 0.681596  [51328/697932]\n",
      "loss: 0.676873  [64128/697932]\n",
      "loss: 1.003759  [76928/697932]\n",
      "loss: 0.944430  [89728/697932]\n",
      "loss: 0.945164  [102528/697932]\n",
      "loss: 0.972881  [115328/697932]\n",
      "loss: 0.785068  [128128/697932]\n",
      "loss: 0.946175  [140928/697932]\n",
      "loss: 0.809167  [153728/697932]\n",
      "loss: 0.744552  [166528/697932]\n",
      "loss: 1.043670  [179328/697932]\n",
      "loss: 0.805444  [192128/697932]\n",
      "loss: 0.763219  [204928/697932]\n",
      "loss: 0.656398  [217728/697932]\n",
      "loss: 0.833330  [230528/697932]\n",
      "loss: 0.827182  [243328/697932]\n",
      "loss: 0.873408  [256128/697932]\n",
      "loss: 0.904064  [268928/697932]\n",
      "loss: 1.079200  [281728/697932]\n",
      "loss: 0.762204  [294528/697932]\n",
      "loss: 0.783914  [307328/697932]\n",
      "loss: 0.835528  [320128/697932]\n",
      "loss: 0.678653  [332928/697932]\n",
      "loss: 0.771333  [345728/697932]\n",
      "loss: 0.776035  [358528/697932]\n",
      "loss: 0.733562  [371328/697932]\n",
      "loss: 0.605826  [384128/697932]\n",
      "loss: 0.741827  [396928/697932]\n",
      "loss: 0.888730  [409728/697932]\n",
      "loss: 0.637262  [422528/697932]\n",
      "loss: 0.887596  [435328/697932]\n",
      "loss: 0.814183  [448128/697932]\n",
      "loss: 0.786886  [460928/697932]\n",
      "loss: 0.687851  [473728/697932]\n",
      "loss: 0.679438  [486528/697932]\n",
      "loss: 1.000451  [499328/697932]\n",
      "loss: 0.772737  [512128/697932]\n",
      "loss: 0.826642  [524928/697932]\n",
      "loss: 0.646318  [537728/697932]\n",
      "loss: 0.836655  [550528/697932]\n",
      "loss: 0.844065  [563328/697932]\n",
      "loss: 0.752904  [576128/697932]\n",
      "loss: 0.855301  [588928/697932]\n",
      "loss: 0.718888  [601728/697932]\n",
      "loss: 0.759288  [614528/697932]\n",
      "loss: 0.830847  [627328/697932]\n",
      "loss: 0.756574  [640128/697932]\n",
      "loss: 0.775545  [652928/697932]\n",
      "loss: 0.673561  [665728/697932]\n",
      "loss: 0.511982  [678528/697932]\n",
      "loss: 0.952668  [691328/697932]\n",
      "Test Error: \n",
      " Accuracy: 77.4%, Avg loss: 0.738995 \n",
      "\n",
      "Epoch 5\n",
      "-------------------------------\n",
      "loss: 0.806380  [  128/697932]\n",
      "loss: 0.624582  [12928/697932]\n",
      "loss: 0.680608  [25728/697932]\n",
      "loss: 0.739808  [38528/697932]\n",
      "loss: 0.551674  [51328/697932]\n",
      "loss: 0.605598  [64128/697932]\n",
      "loss: 0.878077  [76928/697932]\n",
      "loss: 0.826930  [89728/697932]\n",
      "loss: 0.844479  [102528/697932]\n",
      "loss: 0.858991  [115328/697932]\n",
      "loss: 0.695230  [128128/697932]\n",
      "loss: 0.827628  [140928/697932]\n",
      "loss: 0.708431  [153728/697932]\n",
      "loss: 0.679982  [166528/697932]\n",
      "loss: 0.945326  [179328/697932]\n",
      "loss: 0.685065  [192128/697932]\n",
      "loss: 0.700793  [204928/697932]\n",
      "loss: 0.556534  [217728/697932]\n",
      "loss: 0.768885  [230528/697932]\n",
      "loss: 0.760450  [243328/697932]\n",
      "loss: 0.776688  [256128/697932]\n",
      "loss: 0.809588  [268928/697932]\n",
      "loss: 0.958935  [281728/697932]\n",
      "loss: 0.691694  [294528/697932]\n",
      "loss: 0.695467  [307328/697932]\n",
      "loss: 0.768548  [320128/697932]\n",
      "loss: 0.603231  [332928/697932]\n",
      "loss: 0.704441  [345728/697932]\n",
      "loss: 0.706893  [358528/697932]\n",
      "loss: 0.675138  [371328/697932]\n",
      "loss: 0.547050  [384128/697932]\n",
      "loss: 0.660579  [396928/697932]\n",
      "loss: 0.787059  [409728/697932]\n",
      "loss: 0.557512  [422528/697932]\n",
      "loss: 0.803594  [435328/697932]\n",
      "loss: 0.718490  [448128/697932]\n",
      "loss: 0.697577  [460928/697932]\n",
      "loss: 0.590022  [473728/697932]\n",
      "loss: 0.606664  [486528/697932]\n",
      "loss: 0.913389  [499328/697932]\n",
      "loss: 0.667411  [512128/697932]\n",
      "loss: 0.727680  [524928/697932]\n",
      "loss: 0.575260  [537728/697932]\n",
      "loss: 0.775787  [550528/697932]\n",
      "loss: 0.738585  [563328/697932]\n",
      "loss: 0.677432  [576128/697932]\n",
      "loss: 0.752634  [588928/697932]\n",
      "loss: 0.639362  [601728/697932]\n",
      "loss: 0.699420  [614528/697932]\n",
      "loss: 0.735211  [627328/697932]\n",
      "loss: 0.703613  [640128/697932]\n",
      "loss: 0.695395  [652928/697932]\n",
      "loss: 0.631253  [665728/697932]\n",
      "loss: 0.462541  [678528/697932]\n",
      "loss: 0.863569  [691328/697932]\n",
      "Test Error: \n",
      " Accuracy: 79.2%, Avg loss: 0.672551 \n",
      "\n",
      "Done!\n"
     ]
    }
   ],
   "source": [
    "epochs = 5\n",
    "for t in range(epochs):\n",
    "    print(f\"Epoch {t+1}\\n-------------------------------\")\n",
    "    train(train_dataloader, model, loss_fn, optimizer)\n",
    "    test(test_dataloader, model, loss_fn)\n",
    "print(\"Done!\")"
   ]
  },
  {
   "cell_type": "code",
   "execution_count": 23,
   "id": "e76b2bd2",
   "metadata": {},
   "outputs": [],
   "source": [
    "# Set the model to evaluation mode\n",
    "model.eval()\n",
    "\n",
    "# Get a batch of test data\n",
    "images, labels = next(iter(test_dataloader))\n",
    "images, labels = images.to(device), labels.to(device)"
   ]
  },
  {
   "cell_type": "code",
   "execution_count": 24,
   "id": "1f40b819",
   "metadata": {},
   "outputs": [],
   "source": [
    "# Get predictions\n",
    "with torch.no_grad():\n",
    "    outputs = model(images)\n",
    "    _, predicted = torch.max(outputs.data, 1)\n",
    "\n",
    "# Move data to CPU for plotting\n",
    "images = images.cpu()\n",
    "labels = labels.cpu()\n",
    "predicted = predicted.cpu()"
   ]
  },
  {
   "cell_type": "code",
   "execution_count": 26,
   "id": "31624096",
   "metadata": {},
   "outputs": [
    {
     "data": {
      "image/png": "[encoded data removed]",
      "text/plain": [
       "<Figure size 1200x1200 with 25 Axes>"
      ]
     },
     "metadata": {},
     "output_type": "display_data"
    }
   ],
   "source": [
    "# Select random images to display from the batch\n",
    "num_images_to_show = 25\n",
    "random_indices = np.random.choice(len(images), num_images_to_show, replace=False)\n",
    "\n",
    "# Create a plot to display the images\n",
    "fig, axes = plt.subplots(5, 5, figsize=(12, 12))\n",
    "axes = axes.ravel()\n",
    "\n",
    "for i, idx in enumerate(random_indices):\n",
    "    # Get the specific image, true label, and predicted label\n",
    "    image = images[idx]\n",
    "    true_label_idx = labels[idx].item()\n",
    "    predicted_label_idx = predicted[idx].item()\n",
    "\n",
    "    # Correct the orientation for display \n",
    "    image_display = image.permute(0, 2, 1)\n",
    "    #image_display = torch.flip(image_display, [2])\n",
    "\n",
    "    # Display the image\n",
    "    axes[i].imshow(image_display.squeeze(), cmap='gray')\n",
    "    axes[i].axis('off')\n",
    "\n",
    "    # Set title color based on prediction correctness\n",
    "    true_class = class_names[true_label_idx]\n",
    "    pred_class = class_names[predicted_label_idx]\n",
    "    is_correct = (true_class == pred_class)\n",
    "    color = \"green\" if is_correct else \"red\"\n",
    "    \n",
    "    axes[i].set_title(f'True: {true_class}\\nPred: {pred_class}', color=color, fontsize=12)\n",
    "\n",
    "plt.tight_layout()\n",
    "plt.show()"
   ]
  },
  {
   "cell_type": "code",
   "execution_count": 1,
   "id": "2c1e63bc",
   "metadata": {},
   "outputs": [],
   "source": [
    "import torch\n",
    "from torch import nn\n",
    "import torch.optim as optim"
   ]
  },
  {
   "cell_type": "code",
   "execution_count": 2,
   "id": "03ecf083",
   "metadata": {},
   "outputs": [],
   "source": [
    "class XORNet(nn.Module):\n",
    "    def __init__(self):\n",
    "        super(XORNet, self).__init__()\n",
    "        self.fc1 = nn.Linear(2, 4)\n",
    "        self.relu = nn.ReLU()\n",
    "        self.fc2 = nn.Linear(4, 1)\n",
    "        self.sigmoid = nn.Sigmoid()\n",
    "\n",
    "    def forward(self, x):\n",
    "        x = self.fc1(x)\n",
    "        x = self.relu(x)\n",
    "        x = self.fc2(x)\n",
    "        x = self.sigmoid(x)\n",
    "        return x"
   ]
  },
  {
   "cell_type": "code",
   "execution_count": 4,
   "id": "99923026",
   "metadata": {},
   "outputs": [],
   "source": [
    "inputs = torch.tensor([[0., 0.], [0., 1.], [1., 0.], [1., 1.]])\n",
    "targets = torch.tensor([[0.], [1.], [1.], [0.]])"
   ]
  },
  {
   "cell_type": "code",
   "execution_count": 5,
   "id": "d914d879",
   "metadata": {},
   "outputs": [
    {
     "name": "stdout",
     "output_type": "stream",
     "text": [
      "Epoch [100/1000], Loss: 0.5816\n",
      "Epoch [200/1000], Loss: 0.1548\n",
      "Epoch [300/1000], Loss: 0.0537\n",
      "Epoch [400/1000], Loss: 0.0281\n",
      "Epoch [500/1000], Loss: 0.0175\n",
      "Epoch [600/1000], Loss: 0.0121\n",
      "Epoch [700/1000], Loss: 0.0090\n",
      "Epoch [800/1000], Loss: 0.0069\n",
      "Epoch [900/1000], Loss: 0.0055\n",
      "Epoch [1000/1000], Loss: 0.0045\n"
     ]
    }
   ],
   "source": [
    "model = XORNet()\n",
    "criterion = nn.BCELoss()\n",
    "optimizer = optim.Adam(model.parameters(), lr=0.01)\n",
    "\n",
    "for epoch in range(1000):\n",
    "    outputs = model(inputs) \n",
    "    loss = criterion(outputs, targets)\n",
    "    optimizer.zero_grad()\n",
    "    loss.backward()\n",
    "    optimizer.step()\n",
    "\n",
    "    if (epoch+1) % 100 == 0:\n",
    "        print(f'Epoch [{epoch+1}/1000], Loss: {loss.item():.4f}')"
   ]
  },
  {
   "cell_type": "code",
   "execution_count": 6,
   "id": "47b0bd6a",
   "metadata": {},
   "outputs": [
    {
     "name": "stdout",
     "output_type": "stream",
     "text": [
      "\n",
      "Predictions\n",
      "tensor([[0.],\n",
      "        [1.],\n",
      "        [1.],\n",
      "        [0.]])\n"
     ]
    }
   ],
   "source": [
    "with torch.no_grad():\n",
    "    predictions = model(inputs)\n",
    "    print(\"\\nPredictions\")\n",
    "    print(predictions.round())"
   ]
  },
  {
   "cell_type": "markdown",
   "id": "3eac9335",
   "metadata": {},
   "source": [
    "## Transfer Learning"
   ]
  },
  {
   "cell_type": "code",
   "execution_count": 1,
   "id": "bf7bc87d",
   "metadata": {},
   "outputs": [
    {
     "data": {
      "text/plain": [
       "<contextlib.ExitStack at 0x20308f26b50>"
      ]
     },
     "execution_count": 1,
     "metadata": {},
     "output_type": "execute_result"
    }
   ],
   "source": [
    "import torch\n",
    "import torch.nn as nn\n",
    "import torch.optim as optim \n",
    "from torch.optim import lr_scheduler\n",
    "import torch.backends.cudnn as cudnn\n",
    "import numpy as np\n",
    "import torchvision\n",
    "from torchvision import datasets, models, transforms\n",
    "import matplotlib.pyplot as plt\n",
    "import time\n",
    "import os\n",
    "from PIL import Image\n",
    "from tempfile import TemporaryDirectory\n",
    "cudnn.benchmark = True\n",
    "plt.ion()"
   ]
  },
  {
   "cell_type": "code",
   "execution_count": 2,
   "id": "009cb4a0",
   "metadata": {},
   "outputs": [
    {
     "name": "stdout",
     "output_type": "stream",
     "text": [
      "cuda:0\n"
     ]
    }
   ],
   "source": [
    "# Data augmentation and normalization for training\n",
    "# Just normalization for validation\n",
    "data_transforms = {\n",
    "    \"train\": transforms.Compose([\n",
    "        transforms.RandomResizedCrop(224),\n",
    "        transforms.RandomHorizontalFlip(),\n",
    "        transforms.ToTensor(),  \n",
    "        transforms.Normalize([0.485, 0.456, 0.406], [0.229, 0.224, 0.225])\n",
    "    ]),\n",
    "    \"val\": transforms.Compose([\n",
    "        transforms.Resize(256),\n",
    "        transforms.CenterCrop(224),\n",
    "        transforms.ToTensor(),\n",
    "        transforms.Normalize([0.485, 0.456, 0.406], [0.229, 0.224, 0.225])\n",
    "    ]), \n",
    "}\n",
    "\n",
    "data_dir = \"data/hymenoptera_data\"\n",
    "image_datasets = {x: datasets.ImageFolder(os.path.join(data_dir, x),data_transforms[x])\n",
    "                    for x in [\"train\", \"val\"]}\n",
    "dataloaders = {x: torch.utils.data.DataLoader(image_datasets[x], batch_size=4,shuffle=True, num_workers=4)\n",
    "                for x in [\"train\", \"val\"]}\n",
    "dataset_sizes = {x: len(image_datasets[x]) for x in [\"train\", \"val\"]}\n",
    "class_names = image_datasets[\"train\"].classes\n",
    "device = torch.device(\"cuda:0\" if torch.cuda.is_available() else \"cpu\")\n",
    "print(device)\n"
   ]
  },
  {
   "cell_type": "code",
   "execution_count": 3,
   "id": "17f86df8",
   "metadata": {},
   "outputs": [
    {
     "data": {
      "image/png": "[encoded data removed]",
      "text/plain": [
       "<Figure size 640x480 with 1 Axes>"
      ]
     },
     "metadata": {},
     "output_type": "display_data"
    }
   ],
   "source": [
    "def imshow(inp, title=None):\n",
    "    \"\"\"Imshow for Tensor.\"\"\"\n",
    "    inp = inp.numpy().transpose((1, 2, 0))\n",
    "    mean = np.array([0.485, 0.456, 0.406])\n",
    "    std = np.array([0.229, 0.224, 0.225])\n",
    "    inp = std * inp + mean\n",
    "    inp = np.clip(inp, 0, 1)\n",
    "    plt.imshow(inp)\n",
    "    if title is not None:\n",
    "        plt.title(title)\n",
    "    plt.pause(0.001)  # pause a bit so that plots are updated\n",
    "\n",
    "# Get a batch of training data\n",
    "inputs, classes = next(iter(dataloaders[\"train\"]))\n",
    "# Make a grid from batch\n",
    "out = torchvision.utils.make_grid(inputs)\n",
    "imshow(out, title=[class_names[x] for x in classes])"
   ]
  },
  {
   "cell_type": "code",
   "execution_count": null,
   "id": "85e6cd28",
   "metadata": {},
   "outputs": [],
   "source": []
  }
 ],
 "metadata": {
  "kernelspec": {
   "display_name": ".venv",
   "language": "python",
   "name": "python3"
  },
  "language_info": {
   "codemirror_mode": {
    "name": "ipython",
    "version": 3
   },
   "file_extension": ".py",
   "mimetype": "text/x-python",
   "name": "python",
   "nbconvert_exporter": "python",
   "pygments_lexer": "ipython3",
   "version": "3.11.1"
  }
 },
 "nbformat": 4,
 "nbformat_minor": 5
}
