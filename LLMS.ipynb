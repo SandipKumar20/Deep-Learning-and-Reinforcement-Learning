{
 "cells": [
  {
   "cell_type": "markdown",
   "id": "15d1ef1e",
   "metadata": {},
   "source": [
    "## Tokenizing with words"
   ]
  },
  {
   "cell_type": "code",
   "execution_count": 1,
   "id": "9f4fb728",
   "metadata": {},
   "outputs": [],
   "source": [
    "import re"
   ]
  },
  {
   "cell_type": "code",
   "execution_count": 2,
   "id": "05315a07",
   "metadata": {},
   "outputs": [],
   "source": [
    "text = [\"Artificial Intelligence is the simulation of human intelligence processes by machines especially computer systems\",\n",
    "       \"Reinforcement Learning is a subset of Artificial intelligence\",\n",
    "       \"Q learning is a model-free reinforcement learning algorithm to learn the value of an action in a particular state\"]"
   ]
  },
  {
   "cell_type": "code",
   "execution_count": 3,
   "id": "6e1bfd3f",
   "metadata": {},
   "outputs": [],
   "source": [
    "all_words = re.split(\"\\s\", \" \".join(text).lower())"
   ]
  },
  {
   "cell_type": "code",
   "execution_count": 4,
   "id": "427332ab",
   "metadata": {},
   "outputs": [
    {
     "data": {
      "text/plain": [
       "['artificial',\n",
       " 'intelligence',\n",
       " 'is',\n",
       " 'the',\n",
       " 'simulation',\n",
       " 'of',\n",
       " 'human',\n",
       " 'intelligence',\n",
       " 'processes',\n",
       " 'by',\n",
       " 'machines',\n",
       " 'especially',\n",
       " 'computer',\n",
       " 'systems',\n",
       " 'reinforcement',\n",
       " 'learning',\n",
       " 'is',\n",
       " 'a',\n",
       " 'subset',\n",
       " 'of',\n",
       " 'artificial',\n",
       " 'intelligence',\n",
       " 'q',\n",
       " 'learning',\n",
       " 'is',\n",
       " 'a',\n",
       " 'model-free',\n",
       " 'reinforcement',\n",
       " 'learning',\n",
       " 'algorithm',\n",
       " 'to',\n",
       " 'learn',\n",
       " 'the',\n",
       " 'value',\n",
       " 'of',\n",
       " 'an',\n",
       " 'action',\n",
       " 'in',\n",
       " 'a',\n",
       " 'particular',\n",
       " 'state']"
      ]
     },
     "execution_count": 4,
     "metadata": {},
     "output_type": "execute_result"
    }
   ],
   "source": [
    "all_words"
   ]
  },
  {
   "cell_type": "code",
   "execution_count": 5,
   "id": "7cb979f2",
   "metadata": {},
   "outputs": [
    {
     "data": {
      "text/plain": [
       "['a',\n",
       " 'action',\n",
       " 'algorithm',\n",
       " 'an',\n",
       " 'artificial',\n",
       " 'by',\n",
       " 'computer',\n",
       " 'especially',\n",
       " 'human',\n",
       " 'in',\n",
       " 'intelligence',\n",
       " 'is',\n",
       " 'learn',\n",
       " 'learning',\n",
       " 'machines',\n",
       " 'model-free',\n",
       " 'of',\n",
       " 'particular',\n",
       " 'processes',\n",
       " 'q',\n",
       " 'reinforcement',\n",
       " 'simulation',\n",
       " 'state',\n",
       " 'subset',\n",
       " 'systems',\n",
       " 'the',\n",
       " 'to',\n",
       " 'value']"
      ]
     },
     "execution_count": 5,
     "metadata": {},
     "output_type": "execute_result"
    }
   ],
   "source": [
    "# Create a vocabulary of unique words\n",
    "vocab = sorted(set(all_words))\n",
    "vocab"
   ]
  },
  {
   "cell_type": "code",
   "execution_count": 6,
   "id": "c316c9d0",
   "metadata": {},
   "outputs": [
    {
     "data": {
      "text/plain": [
       "(41, 28)"
      ]
     },
     "execution_count": 6,
     "metadata": {},
     "output_type": "execute_result"
    }
   ],
   "source": [
    "len(all_words), len(vocab)"
   ]
  },
  {
   "cell_type": "code",
   "execution_count": 7,
   "id": "2d0ae79a",
   "metadata": {},
   "outputs": [
    {
     "data": {
      "text/plain": [
       "{'a': 0,\n",
       " 'action': 1,\n",
       " 'algorithm': 2,\n",
       " 'an': 3,\n",
       " 'artificial': 4,\n",
       " 'by': 5,\n",
       " 'computer': 6,\n",
       " 'especially': 7,\n",
       " 'human': 8,\n",
       " 'in': 9,\n",
       " 'intelligence': 10,\n",
       " 'is': 11,\n",
       " 'learn': 12,\n",
       " 'learning': 13,\n",
       " 'machines': 14,\n",
       " 'model-free': 15,\n",
       " 'of': 16,\n",
       " 'particular': 17,\n",
       " 'processes': 18,\n",
       " 'q': 19,\n",
       " 'reinforcement': 20,\n",
       " 'simulation': 21,\n",
       " 'state': 22,\n",
       " 'subset': 23,\n",
       " 'systems': 24,\n",
       " 'the': 25,\n",
       " 'to': 26,\n",
       " 'value': 27}"
      ]
     },
     "execution_count": 7,
     "metadata": {},
     "output_type": "execute_result"
    }
   ],
   "source": [
    "word2ids = {}\n",
    "for i, word in enumerate(vocab):\n",
    "    word2ids[word] = i\n",
    "word2ids    "
   ]
  },
  {
   "cell_type": "code",
   "execution_count": 8,
   "id": "30c20d3c",
   "metadata": {},
   "outputs": [
    {
     "data": {
      "text/plain": [
       "{0: 'a',\n",
       " 1: 'action',\n",
       " 2: 'algorithm',\n",
       " 3: 'an',\n",
       " 4: 'artificial',\n",
       " 5: 'by',\n",
       " 6: 'computer',\n",
       " 7: 'especially',\n",
       " 8: 'human',\n",
       " 9: 'in',\n",
       " 10: 'intelligence',\n",
       " 11: 'is',\n",
       " 12: 'learn',\n",
       " 13: 'learning',\n",
       " 14: 'machines',\n",
       " 15: 'model-free',\n",
       " 16: 'of',\n",
       " 17: 'particular',\n",
       " 18: 'processes',\n",
       " 19: 'q',\n",
       " 20: 'reinforcement',\n",
       " 21: 'simulation',\n",
       " 22: 'state',\n",
       " 23: 'subset',\n",
       " 24: 'systems',\n",
       " 25: 'the',\n",
       " 26: 'to',\n",
       " 27: 'value'}"
      ]
     },
     "execution_count": 8,
     "metadata": {},
     "output_type": "execute_result"
    }
   ],
   "source": [
    "ids2word = {}\n",
    "for i, word in enumerate(vocab):\n",
    "    ids2word[i] = word\n",
    "ids2word"
   ]
  },
  {
   "cell_type": "code",
   "execution_count": 9,
   "id": "c5d4183b",
   "metadata": {},
   "outputs": [
    {
     "name": "stdout",
     "output_type": "stream",
     "text": [
      "The word intelligence has the id:  10\n",
      "The id 10 corresponds to the word:  intelligence\n"
     ]
    }
   ],
   "source": [
    "print(\"The word intelligence has the id: \", word2ids[\"intelligence\"])\n",
    "print(\"The id 10 corresponds to the word: \", ids2word[10])"
   ]
  },
  {
   "cell_type": "code",
   "execution_count": null,
   "id": "093c261a",
   "metadata": {},
   "outputs": [],
   "source": []
  }
 ],
 "metadata": {
  "kernelspec": {
   "display_name": ".venv",
   "language": "python",
   "name": "python3"
  },
  "language_info": {
   "codemirror_mode": {
    "name": "ipython",
    "version": 3
   },
   "file_extension": ".py",
   "mimetype": "text/x-python",
   "name": "python",
   "nbconvert_exporter": "python",
   "pygments_lexer": "ipython3",
   "version": "3.11.1"
  }
 },
 "nbformat": 4,
 "nbformat_minor": 5
}
